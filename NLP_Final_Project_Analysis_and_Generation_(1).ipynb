{
 "cells": [
  {
   "cell_type": "markdown",
   "id": "149229fd",
   "metadata": {
    "id": "149229fd"
   },
   "source": [
    "# Generate beautiful lyrics for your next hit!\n"
   ]
  },
  {
   "cell_type": "markdown",
   "id": "6708bf67",
   "metadata": {
    "id": "6708bf67"
   },
   "source": [
    "## Data cleaning and encoding"
   ]
  },
  {
   "cell_type": "code",
   "execution_count": 1,
   "id": "039355ce",
   "metadata": {
    "id": "039355ce"
   },
   "outputs": [],
   "source": [
    "import pandas as pd\n",
    "import numpy as np\n",
    "import matplotlib.pyplot as plt\n",
    "import re\n",
    "import torch\n",
    "import torch.nn as nn\n",
    "import torch.nn.functional as F\n",
    "import torch.optim as optim\n",
    "from torch.autograd import Variable\n",
    "\n",
    "\n",
    "%matplotlib inline"
   ]
  },
  {
   "cell_type": "code",
   "execution_count": 2,
   "id": "5fe97d2d",
   "metadata": {
    "id": "5fe97d2d"
   },
   "outputs": [],
   "source": [
    "from tensorflow.keras.preprocessing.text import Tokenizer\n",
    "from tensorflow.keras.utils import to_categorical\n",
    "from torch.utils.data import Dataset, DataLoader\n",
    "import time"
   ]
  },
  {
   "cell_type": "code",
   "execution_count": 3,
   "id": "4O0FoU73PztM",
   "metadata": {
    "colab": {
     "base_uri": "https://localhost:8080/"
    },
    "id": "4O0FoU73PztM",
    "outputId": "5d22fd3c-71d3-47e5-c63c-646c70f5af56"
   },
   "outputs": [
    {
     "name": "stdout",
     "output_type": "stream",
     "text": [
      "Mounted at /content/drive\n"
     ]
    }
   ],
   "source": [
    "from google.colab import drive\n",
    "drive.mount('/content/drive')"
   ]
  },
  {
   "cell_type": "code",
   "execution_count": 5,
   "id": "1c3397ea",
   "metadata": {
    "id": "1c3397ea"
   },
   "outputs": [],
   "source": [
    "# Loading positive dataset.\n",
    "posdf = pd.read_csv('/content/drive/MyDrive/NLP_Song_Data/positive_lyrics.csv')"
   ]
  },
  {
   "cell_type": "code",
   "execution_count": 6,
   "id": "24efc64a",
   "metadata": {
    "colab": {
     "base_uri": "https://localhost:8080/",
     "height": 206
    },
    "id": "24efc64a",
    "outputId": "a9af97a4-43aa-4956-b747-0bc2afd2fe15"
   },
   "outputs": [
    {
     "data": {
      "application/vnd.google.colaboratory.intrinsic+json": {
       "summary": "{\n  \"name\": \"posdf\",\n  \"rows\": 300,\n  \"fields\": [\n    {\n      \"column\": \"Artist\",\n      \"properties\": {\n        \"dtype\": \"category\",\n        \"num_unique_values\": 3,\n        \"samples\": [\n          \"Taylor Swift Lyrics\",\n          \"Ariana Grande Lyrics\",\n          \"Britney Spears Lyrics\"\n        ],\n        \"semantic_type\": \"\",\n        \"description\": \"\"\n      }\n    },\n    {\n      \"column\": \"Lyrics\",\n      \"properties\": {\n        \"dtype\": \"string\",\n        \"num_unique_values\": 300,\n        \"samples\": [\n          \"you know what i want \\n i know what you don't \\n i should be the one you love on \\n boy you got my mind \\n playing truth or dare \\n it's daring me to kiss you right here \\n  \\n but we've been friends so long \\n that it seems so wrong \\n and everyone can see you're perfect for me \\n but i just can't let it show \\n  \\n i've been thinkin' about you \\n boy it's killing me and i got to let you know \\n baby tell me \\n do you feel it like i do \\n 'cause we both know what could go  down \\n if we get too close \\n  \\n ahhhhh \\n but if we get too close \\n ahhhhh \\n down if we get too close \\n  \\n remember that girl \\n that you used to date \\n she with my exboyfriend \\n that's great \\n so what we gon do \\n what would you say \\n if i said i loved you that way \\n  \\n but we've been friends so long \\n that it seems so wrong \\n and everyone can see you're perfect for me \\n but we just can't let it show \\n  \\n i've been thinkin' about you \\n boy it's killing me and i got to let you know \\n baby tell me \\n do you feel it like i do \\n 'cause we both know what could go  down \\n if we get too close \\n  \\n ahhhhh \\n but if we get too close \\n ahhhhh \\n down if we get too close \\n  \\n but i just can't let it show \\n  \\n i've been thinkin' about you \\n boy it's killing me and i got to let you know \\n baby tell me \\n do you feel it like i do \\n 'cause we both know what could go  down \\n if we get too close \\n  \\n x \\n ahhhhh \\n but if we get too close \\n ahhhhh \\n down if we get too close\",\n          \"all around the world pretty girls \\n wipe the floor with all the boys \\n pour the drinks bring the noise \\n it's iggyiggs \\n we're just so pretty \\n  \\n all around the world pretty girls \\n jump the line to the front \\n do what we like get what we want \\n where you at brit \\n we're just so pretty \\n  \\n britney spears \\n hey don't you know that it's always the same \\n from australia 'round to la \\n you can betcha' wherever the girls go boys follow \\n  \\n we be keeping them up on their toes \\n they can laugh but they don't get the jokes \\n set your watch they're so predictable \\n some things don't change \\n  \\n the girls roll up \\n windows roll down \\n eyes on us \\n jaws on the ground \\n watch them go \\n it's just so funny \\n like bees to the honey \\n  \\n both \\n all around the world pretty girls \\n wipe the floor with all the boys \\n pour the drinks bring the noise \\n we're just so pretty \\n  \\n all around the world pretty girls \\n jump the line to the front \\n do what we like get what we want \\n we're just so pretty \\n  \\n britney spears \\n tell me is it true that these men are from mars \\n is that why they be acting bizarre \\n every time i walk out of my house it's like hey baby \\n  \\n they don't see me rolling my eyes \\n they buzzing around me like flies \\n they got one thing on their minds \\n some things don't change \\n  \\n the girls roll up \\n windows roll down \\n eyes on us \\n jaws on the ground \\n watch them go \\n it's just so funny \\n like bees to the honey \\n  \\n both \\n all around the world pretty girls \\n wipe the floor with all the boys \\n pour the drinks bring the noise \\n we're just so pretty \\n  \\n all around the world pretty girls \\n jump the line to the front \\n do what we like get what we want \\n we're just so pretty \\n  \\n iggy azalea \\n damn still killing them softly \\n i would spend time with you but that'd cost me \\n they pray that iggyiggy give 'em one more chance \\n but busy iggy wouldn't even give 'em one more glance \\n  \\n see it's a thin line between the beauty and the beast \\n slim waist thick cake the whole world want a piece \\n bad girl good ooh would make you lose your mind \\n all of the boys begging britney hit 'em one more time \\n iggs \\n  \\n what's up britney uhhuh \\n  \\n both \\n all around the world pretty girls \\n wipe the floor with all the boys \\n pour the drinks bring the noise \\n we're just so pretty \\n  \\n all around the world pretty girls \\n jump the line to the front \\n do what we like get what we want \\n we're just so pretty\",\n          \"everybody's waiting \\n everybody's watching \\n even when you're sleeping \\n keep your eyeyes open \\n  \\n the tricky thing \\n is yesterday we were just children \\n playing soldiers \\n just pretending \\n dreaming dreams with happy endings \\n in backyards winning battles with our wooden swords \\n but now we've stepped into a cruel world \\n where everybody stands and keeps score \\n  \\n keep your eyes open \\n  \\n everybody's waiting for you to break down \\n everybody's watching to see the fallout \\n even when you're sleeping sleeping \\n keep your eyeyes open \\n keep your eyeyes open \\n keep your eyeyes open \\n  \\n so here you are two steps ahead and staying on guard \\n every lesson forms a new scar \\n they never thought you'd make it this far \\n but turn around turn around oh they've surrounded you \\n it's a showdown showdown and nobody comes to save you now \\n but you've got something they don't \\n yeah you've got something they don't \\n you've just gotta keep your eyes open \\n  \\n everybody's waiting for you to break down \\n everybody's watching to see the fallout \\n even when you're sleeping sleeping \\n keep your eyeyes open \\n keep your eyeyes open \\n keep your eyeyes \\n  \\n keep your feet ready \\n heartbeat steady \\n keep your eyes open \\n keep your aim locked \\n the night goes dark \\n keep your eyes open \\n  \\n keep your eyeyes open \\n keep your eyeyes open \\n keep your eyeyes open \\n keep your eyeyes open \\n  \\n everybody's waiting for you to break down \\n everybody's watching to see the fallout \\n even when you're sleeping sleeping \\n  \\n keep your eyeyes open \\n keep your eyeyes open \\n keep your eyeyes open \\n keep your eyeyes open \\n keep your eyeyes open\"\n        ],\n        \"semantic_type\": \"\",\n        \"description\": \"\"\n      }\n    },\n    {\n      \"column\": \"Sentiment\",\n      \"properties\": {\n        \"dtype\": \"category\",\n        \"num_unique_values\": 1,\n        \"samples\": [\n          \"Positive\"\n        ],\n        \"semantic_type\": \"\",\n        \"description\": \"\"\n      }\n    }\n  ]\n}",
       "type": "dataframe",
       "variable_name": "posdf"
      },
      "text/html": [
       "\n",
       "  <div id=\"df-3627f248-a418-437a-8654-1e04ea70a393\" class=\"colab-df-container\">\n",
       "    <div>\n",
       "<style scoped>\n",
       "    .dataframe tbody tr th:only-of-type {\n",
       "        vertical-align: middle;\n",
       "    }\n",
       "\n",
       "    .dataframe tbody tr th {\n",
       "        vertical-align: top;\n",
       "    }\n",
       "\n",
       "    .dataframe thead th {\n",
       "        text-align: right;\n",
       "    }\n",
       "</style>\n",
       "<table border=\"1\" class=\"dataframe\">\n",
       "  <thead>\n",
       "    <tr style=\"text-align: right;\">\n",
       "      <th></th>\n",
       "      <th>Artist</th>\n",
       "      <th>Lyrics</th>\n",
       "      <th>Sentiment</th>\n",
       "    </tr>\n",
       "  </thead>\n",
       "  <tbody>\n",
       "    <tr>\n",
       "      <th>0</th>\n",
       "      <td>Taylor Swift Lyrics</td>\n",
       "      <td>i said remember this moment \\n in the back of ...</td>\n",
       "      <td>Positive</td>\n",
       "    </tr>\n",
       "    <tr>\n",
       "      <th>1</th>\n",
       "      <td>Taylor Swift Lyrics</td>\n",
       "      <td>knew he was a killer first time that i saw him...</td>\n",
       "      <td>Positive</td>\n",
       "    </tr>\n",
       "    <tr>\n",
       "      <th>2</th>\n",
       "      <td>Taylor Swift Lyrics</td>\n",
       "      <td>i think you fell off of your cloud today \\n yo...</td>\n",
       "      <td>Positive</td>\n",
       "    </tr>\n",
       "    <tr>\n",
       "      <th>3</th>\n",
       "      <td>Taylor Swift Lyrics</td>\n",
       "      <td>your beautiful eyes \\n stare right into my eye...</td>\n",
       "      <td>Positive</td>\n",
       "    </tr>\n",
       "    <tr>\n",
       "      <th>4</th>\n",
       "      <td>Taylor Swift Lyrics</td>\n",
       "      <td>guess mine is not the first heart broken \\n my...</td>\n",
       "      <td>Positive</td>\n",
       "    </tr>\n",
       "  </tbody>\n",
       "</table>\n",
       "</div>\n",
       "    <div class=\"colab-df-buttons\">\n",
       "\n",
       "  <div class=\"colab-df-container\">\n",
       "    <button class=\"colab-df-convert\" onclick=\"convertToInteractive('df-3627f248-a418-437a-8654-1e04ea70a393')\"\n",
       "            title=\"Convert this dataframe to an interactive table.\"\n",
       "            style=\"display:none;\">\n",
       "\n",
       "  <svg xmlns=\"http://www.w3.org/2000/svg\" height=\"24px\" viewBox=\"0 -960 960 960\">\n",
       "    <path d=\"M120-120v-720h720v720H120Zm60-500h600v-160H180v160Zm220 220h160v-160H400v160Zm0 220h160v-160H400v160ZM180-400h160v-160H180v160Zm440 0h160v-160H620v160ZM180-180h160v-160H180v160Zm440 0h160v-160H620v160Z\"/>\n",
       "  </svg>\n",
       "    </button>\n",
       "\n",
       "  <style>\n",
       "    .colab-df-container {\n",
       "      display:flex;\n",
       "      gap: 12px;\n",
       "    }\n",
       "\n",
       "    .colab-df-convert {\n",
       "      background-color: #E8F0FE;\n",
       "      border: none;\n",
       "      border-radius: 50%;\n",
       "      cursor: pointer;\n",
       "      display: none;\n",
       "      fill: #1967D2;\n",
       "      height: 32px;\n",
       "      padding: 0 0 0 0;\n",
       "      width: 32px;\n",
       "    }\n",
       "\n",
       "    .colab-df-convert:hover {\n",
       "      background-color: #E2EBFA;\n",
       "      box-shadow: 0px 1px 2px rgba(60, 64, 67, 0.3), 0px 1px 3px 1px rgba(60, 64, 67, 0.15);\n",
       "      fill: #174EA6;\n",
       "    }\n",
       "\n",
       "    .colab-df-buttons div {\n",
       "      margin-bottom: 4px;\n",
       "    }\n",
       "\n",
       "    [theme=dark] .colab-df-convert {\n",
       "      background-color: #3B4455;\n",
       "      fill: #D2E3FC;\n",
       "    }\n",
       "\n",
       "    [theme=dark] .colab-df-convert:hover {\n",
       "      background-color: #434B5C;\n",
       "      box-shadow: 0px 1px 3px 1px rgba(0, 0, 0, 0.15);\n",
       "      filter: drop-shadow(0px 1px 2px rgba(0, 0, 0, 0.3));\n",
       "      fill: #FFFFFF;\n",
       "    }\n",
       "  </style>\n",
       "\n",
       "    <script>\n",
       "      const buttonEl =\n",
       "        document.querySelector('#df-3627f248-a418-437a-8654-1e04ea70a393 button.colab-df-convert');\n",
       "      buttonEl.style.display =\n",
       "        google.colab.kernel.accessAllowed ? 'block' : 'none';\n",
       "\n",
       "      async function convertToInteractive(key) {\n",
       "        const element = document.querySelector('#df-3627f248-a418-437a-8654-1e04ea70a393');\n",
       "        const dataTable =\n",
       "          await google.colab.kernel.invokeFunction('convertToInteractive',\n",
       "                                                    [key], {});\n",
       "        if (!dataTable) return;\n",
       "\n",
       "        const docLinkHtml = 'Like what you see? Visit the ' +\n",
       "          '<a target=\"_blank\" href=https://colab.research.google.com/notebooks/data_table.ipynb>data table notebook</a>'\n",
       "          + ' to learn more about interactive tables.';\n",
       "        element.innerHTML = '';\n",
       "        dataTable['output_type'] = 'display_data';\n",
       "        await google.colab.output.renderOutput(dataTable, element);\n",
       "        const docLink = document.createElement('div');\n",
       "        docLink.innerHTML = docLinkHtml;\n",
       "        element.appendChild(docLink);\n",
       "      }\n",
       "    </script>\n",
       "  </div>\n",
       "\n",
       "\n",
       "<div id=\"df-974780e9-bf14-457f-928f-f783f5ef9484\">\n",
       "  <button class=\"colab-df-quickchart\" onclick=\"quickchart('df-974780e9-bf14-457f-928f-f783f5ef9484')\"\n",
       "            title=\"Suggest charts\"\n",
       "            style=\"display:none;\">\n",
       "\n",
       "<svg xmlns=\"http://www.w3.org/2000/svg\" height=\"24px\"viewBox=\"0 0 24 24\"\n",
       "     width=\"24px\">\n",
       "    <g>\n",
       "        <path d=\"M19 3H5c-1.1 0-2 .9-2 2v14c0 1.1.9 2 2 2h14c1.1 0 2-.9 2-2V5c0-1.1-.9-2-2-2zM9 17H7v-7h2v7zm4 0h-2V7h2v10zm4 0h-2v-4h2v4z\"/>\n",
       "    </g>\n",
       "</svg>\n",
       "  </button>\n",
       "\n",
       "<style>\n",
       "  .colab-df-quickchart {\n",
       "      --bg-color: #E8F0FE;\n",
       "      --fill-color: #1967D2;\n",
       "      --hover-bg-color: #E2EBFA;\n",
       "      --hover-fill-color: #174EA6;\n",
       "      --disabled-fill-color: #AAA;\n",
       "      --disabled-bg-color: #DDD;\n",
       "  }\n",
       "\n",
       "  [theme=dark] .colab-df-quickchart {\n",
       "      --bg-color: #3B4455;\n",
       "      --fill-color: #D2E3FC;\n",
       "      --hover-bg-color: #434B5C;\n",
       "      --hover-fill-color: #FFFFFF;\n",
       "      --disabled-bg-color: #3B4455;\n",
       "      --disabled-fill-color: #666;\n",
       "  }\n",
       "\n",
       "  .colab-df-quickchart {\n",
       "    background-color: var(--bg-color);\n",
       "    border: none;\n",
       "    border-radius: 50%;\n",
       "    cursor: pointer;\n",
       "    display: none;\n",
       "    fill: var(--fill-color);\n",
       "    height: 32px;\n",
       "    padding: 0;\n",
       "    width: 32px;\n",
       "  }\n",
       "\n",
       "  .colab-df-quickchart:hover {\n",
       "    background-color: var(--hover-bg-color);\n",
       "    box-shadow: 0 1px 2px rgba(60, 64, 67, 0.3), 0 1px 3px 1px rgba(60, 64, 67, 0.15);\n",
       "    fill: var(--button-hover-fill-color);\n",
       "  }\n",
       "\n",
       "  .colab-df-quickchart-complete:disabled,\n",
       "  .colab-df-quickchart-complete:disabled:hover {\n",
       "    background-color: var(--disabled-bg-color);\n",
       "    fill: var(--disabled-fill-color);\n",
       "    box-shadow: none;\n",
       "  }\n",
       "\n",
       "  .colab-df-spinner {\n",
       "    border: 2px solid var(--fill-color);\n",
       "    border-color: transparent;\n",
       "    border-bottom-color: var(--fill-color);\n",
       "    animation:\n",
       "      spin 1s steps(1) infinite;\n",
       "  }\n",
       "\n",
       "  @keyframes spin {\n",
       "    0% {\n",
       "      border-color: transparent;\n",
       "      border-bottom-color: var(--fill-color);\n",
       "      border-left-color: var(--fill-color);\n",
       "    }\n",
       "    20% {\n",
       "      border-color: transparent;\n",
       "      border-left-color: var(--fill-color);\n",
       "      border-top-color: var(--fill-color);\n",
       "    }\n",
       "    30% {\n",
       "      border-color: transparent;\n",
       "      border-left-color: var(--fill-color);\n",
       "      border-top-color: var(--fill-color);\n",
       "      border-right-color: var(--fill-color);\n",
       "    }\n",
       "    40% {\n",
       "      border-color: transparent;\n",
       "      border-right-color: var(--fill-color);\n",
       "      border-top-color: var(--fill-color);\n",
       "    }\n",
       "    60% {\n",
       "      border-color: transparent;\n",
       "      border-right-color: var(--fill-color);\n",
       "    }\n",
       "    80% {\n",
       "      border-color: transparent;\n",
       "      border-right-color: var(--fill-color);\n",
       "      border-bottom-color: var(--fill-color);\n",
       "    }\n",
       "    90% {\n",
       "      border-color: transparent;\n",
       "      border-bottom-color: var(--fill-color);\n",
       "    }\n",
       "  }\n",
       "</style>\n",
       "\n",
       "  <script>\n",
       "    async function quickchart(key) {\n",
       "      const quickchartButtonEl =\n",
       "        document.querySelector('#' + key + ' button');\n",
       "      quickchartButtonEl.disabled = true;  // To prevent multiple clicks.\n",
       "      quickchartButtonEl.classList.add('colab-df-spinner');\n",
       "      try {\n",
       "        const charts = await google.colab.kernel.invokeFunction(\n",
       "            'suggestCharts', [key], {});\n",
       "      } catch (error) {\n",
       "        console.error('Error during call to suggestCharts:', error);\n",
       "      }\n",
       "      quickchartButtonEl.classList.remove('colab-df-spinner');\n",
       "      quickchartButtonEl.classList.add('colab-df-quickchart-complete');\n",
       "    }\n",
       "    (() => {\n",
       "      let quickchartButtonEl =\n",
       "        document.querySelector('#df-974780e9-bf14-457f-928f-f783f5ef9484 button');\n",
       "      quickchartButtonEl.style.display =\n",
       "        google.colab.kernel.accessAllowed ? 'block' : 'none';\n",
       "    })();\n",
       "  </script>\n",
       "</div>\n",
       "\n",
       "    </div>\n",
       "  </div>\n"
      ],
      "text/plain": [
       "                Artist                                             Lyrics  \\\n",
       "0  Taylor Swift Lyrics  i said remember this moment \\n in the back of ...   \n",
       "1  Taylor Swift Lyrics  knew he was a killer first time that i saw him...   \n",
       "2  Taylor Swift Lyrics  i think you fell off of your cloud today \\n yo...   \n",
       "3  Taylor Swift Lyrics  your beautiful eyes \\n stare right into my eye...   \n",
       "4  Taylor Swift Lyrics  guess mine is not the first heart broken \\n my...   \n",
       "\n",
       "  Sentiment  \n",
       "0  Positive  \n",
       "1  Positive  \n",
       "2  Positive  \n",
       "3  Positive  \n",
       "4  Positive  "
      ]
     },
     "execution_count": 6,
     "metadata": {},
     "output_type": "execute_result"
    }
   ],
   "source": [
    "# Uncomment this line to reduce size of dataset for faster training - positive dataset.\n",
    "posdf = posdf.head(300)\n",
    "posdf.head()"
   ]
  },
  {
   "cell_type": "code",
   "execution_count": 7,
   "id": "1331151b",
   "metadata": {
    "id": "1331151b"
   },
   "outputs": [],
   "source": [
    "#Loading negative dataset\n",
    "negdf = pd.read_csv('/content/drive/MyDrive/NLP_Song_Data/negative_lyrics.csv')"
   ]
  },
  {
   "cell_type": "code",
   "execution_count": 8,
   "id": "d414a35a",
   "metadata": {
    "colab": {
     "base_uri": "https://localhost:8080/",
     "height": 206
    },
    "id": "d414a35a",
    "outputId": "befc746d-98ce-4fc8-f4d2-8cb7c4b46804"
   },
   "outputs": [
    {
     "data": {
      "application/vnd.google.colaboratory.intrinsic+json": {
       "summary": "{\n  \"name\": \"negdf\",\n  \"rows\": 300,\n  \"fields\": [\n    {\n      \"column\": \"Artist\",\n      \"properties\": {\n        \"dtype\": \"category\",\n        \"num_unique_values\": 10,\n        \"samples\": [\n          \"Akon Lyrics\",\n          \"Britney Spears Lyrics\",\n          \"Imagine Dragons Lyrics\"\n        ],\n        \"semantic_type\": \"\",\n        \"description\": \"\"\n      }\n    },\n    {\n      \"column\": \"Lyrics\",\n      \"properties\": {\n        \"dtype\": \"string\",\n        \"num_unique_values\": 296,\n        \"samples\": [\n          \"rock rock x \\n i know you don't really want me to make it \\n i know you hate the fact that i'm so fly \\n and i see you like what you see and want to take it \\n i know you really don't wanna die \\n so come on and rock come on and rock \\n you don't want anything to be your pain \\n so come on and rock come on and rock \\n you got more to lose than you got to gain \\n  \\n i'm trying to understand the reason why you wanna hate akon \\n feel the beat can't stop now \\n you trying to get in the way to make a nigga straight slow down \\n but you know we won't stop now \\n what about the crooked cops \\n what about the liquor shops \\n what about the things we do when it comes to holding down the block \\n what about the fake ass hoes \\n what about them with no clothes \\n what about they'll do anything that you want them just show them the doe \\n no matter where we go \\n there's no one above me \\n akon and filapine \\n we running the country \\n i know you want to see it \\n but you can't control us \\n so take my advice \\n if you can't beat us then join us \\n  \\n i know you don't really want me to make it \\n i know you hate the fact that i'm so fly \\n and i see you like what you see and want to take it \\n i know you really don't wanna die \\n so come on and rock come on and rock \\n you don't want anything to be your pain \\n so come on and rock come on and rock \\n you got more to lose than you got to gain \\n  \\n i know they hating on me \\n calm when it's plain to see \\n my enemy is close used to be my friends \\n don't know what to do the murder's grave to me \\n but it's ok i know i got it \\n then you can see my style \\n asiatic do it like nobody ever did \\n i'm crunk singing riding in my car \\n doing what i like and i don't care what they say \\n don't know why they hate like that \\n tell me why they hate like that \\n i see them through my window \\n trying to take everything i got \\n i can see it in your eyes \\n i'm dancing on your mind \\n well come round with me motherfucker can we do or die \\n  \\n i know you don't really want me to make it \\n i know you hate the fact that i'm so fly \\n and i see you like what you see and want to take it \\n i know you really don't wanna die \\n so come on and rock come on and rock \\n you don't want anything to be your pain \\n so come on and rock come on and rock \\n you got more to lose than you got to gain \\n  \\n yeah i know i know i know they hatin me \\n but i see they try to take everything i got \\n i see i see i see it in your eyes \\n they feel like they mess with me \\n imma bring a bit \\n no no no no they're playin jealousy envy \\n but to show i'm gonna make it yeah \\n  \\n i know you don't really want me to make it \\n i know you hate the fact that i'm so fly \\n and i see you like what you see and want to take it \\n i know you really don't wanna die \\n so come on and rock come on and rock \\n you don't want anything to be your pain \\n so come on and rock come on and rock \\n you got more to lose than you got to gain \\n  \\n i know you don't really want me to make it \\n i know you hate the fact that i'm so fly \\n and i see you like what you see and want to take it \\n i know you really don't wanna die \\n so come on and rock come on and rock \\n you don't want anything to be your pain \\n so come on and rock come on and rock \\n you got more to lose than you got to gain\",\n          \"disappear\\r \\n i remember the first time\\r \\n but it wasn't the last time\\r \\n that you told me that\\r \\n you'd take me back\\r \\n so i'm still wondering why\\r \\n it was ever a question\\r \\n i should have learned my lesson\\r \\n i keep coming back\\r \\n like a heart attack\\r \\n that's always breaking\\r \\n i can't let you vanish\\r \\n there's no magic when you're gone \\n \\r \\n you say you don't need me\\r \\n you say this time believe me\\r \\n i'm not gonna let you disappear disappear\\r \\n i don't wanna hear it\\r \\n i don't wanna believe it\\r \\n i'm not gonna let you disappear disappear \\n \\r \\n oh oh oh oh oh\\r \\n oh oh oh oh oh\\r \\n oh oh oh oh oh\\r \\n disappear \\n \\r \\n i don't wanna be lonely\\r \\n but you were always the only\\r \\n one who cast a spell\\r \\n and made it feel\\r \\n like all of this was real\\r \\n nothing but an illusion\\r \\n but i'm not gonna lose ya\\r \\n so just do your trick\\r \\n and make it quick\\r \\n cause i'm pretending\\r \\n i can't let you vanish\\r \\n there's no magic when you're gone \\n \\r \\n you say you don't need me\\r \\n you say this time believe me\\r \\n i'm not gonna let you disappear disappear\\r \\n i don't wanna hear it\\r \\n i don't wanna believe it\\r \\n i'm not gonna let you disappear disappear \\n \\r \\n oh oh oh oh oh\\r \\n oh oh oh oh oh\\r \\n oh oh oh oh oh\\r \\n disappear \\n \\r \\n don't go\\r \\n i can't let you vanish\\r \\n there's no magic when you're gone \\n \\r \\n oh oh oh oh oh\\r \\n oh oh oh oh oh\\r \\n oh oh oh oh oh\\r \\n disappear \\n \\r \\n you say you don't need me\\r \\n you say this time believe me\\r \\n i'm not gonna let you disappear disappear\\r \\n i don't wanna hear it\\r \\n i don't wanna believe it\\r \\n i'm not gonna let you disappear disappear \\n \\r \\n oh oh oh oh oh\\r \\n oh oh oh oh oh\\r \\n oh oh oh oh oh\\r \\n disappear disappear \\n \\r \\n oh oh oh oh oh\\r \\n oh oh oh oh oh\\r \\n oh oh oh oh oh\\r \\n disappear disappear\\r \\n don't go disappear\",\n          \"baby can\\u00e2t you see \\n i\\u00e2m calling \\n a guy like you \\n should wear a warning \\n it\\u00e2s dangerous \\n i\\u00e2m fallin\\u00e2 \\n  \\n there\\u00e2s no escape \\n i can\\u00e2t wait \\n i need a hit \\n baby give me it \\n you\\u00e2re dangerous \\n i\\u00e2m lovin\\u00e2 it \\n  \\n too high \\n can\\u00e2t come down \\n losing my head \\n spinning \\u00e2round and \\u00e2round \\n do you feel me now \\n  \\n with a taste of your lips i\\u00e2m on a ride \\n you're toxic i'm slipping under \\n with a taste of a poison paradise \\n i\\u00e2m addicted to you \\n don\\u00e2t you know that you\\u00e2re toxic \\n and i love what you do \\n don\\u00e2t you know that you\\u00e2re toxic \\n  \\n it\\u00e2s getting late \\n to give you up \\n i took a sip \\n from my devil's cup \\n slowly \\n it\\u00e2s taking over me \\n  \\n too high \\n can\\u00e2t come down \\n it\\u00e2s in the air \\n and it\\u00e2s all around \\n can you feel me now \\n  \\n with a taste of your lips i\\u00e2m on a ride \\n you're toxic i'm slipping under \\n with a taste of a poison paradise \\n i\\u00e2m addicted to you \\n don\\u00e2t you know that you\\u00e2re toxic \\n and i love what you do \\n don\\u00e2t you know that you\\u00e2re toxic \\n  \\n don't you know that you're toxic \\n  \\n x \\n with a taste of your lips i'm on a ride \\n you're toxic i'm slipping under \\n with a taste of a poison paradise \\n i'm addicted to you \\n don't you know that you're toxic \\n  \\n intoxicate me now \\n with your lovin' now \\n i think i'm ready now \\n i think i'm ready now \\n intoxicate me now \\n with your lovin' now \\n i think i'm ready now\"\n        ],\n        \"semantic_type\": \"\",\n        \"description\": \"\"\n      }\n    },\n    {\n      \"column\": \"Sentiment\",\n      \"properties\": {\n        \"dtype\": \"category\",\n        \"num_unique_values\": 1,\n        \"samples\": [\n          \"Negative\"\n        ],\n        \"semantic_type\": \"\",\n        \"description\": \"\"\n      }\n    }\n  ]\n}",
       "type": "dataframe",
       "variable_name": "negdf"
      },
      "text/html": [
       "\n",
       "  <div id=\"df-cb5ecf8c-2eba-46c2-bee2-38fe8287e591\" class=\"colab-df-container\">\n",
       "    <div>\n",
       "<style scoped>\n",
       "    .dataframe tbody tr th:only-of-type {\n",
       "        vertical-align: middle;\n",
       "    }\n",
       "\n",
       "    .dataframe tbody tr th {\n",
       "        vertical-align: top;\n",
       "    }\n",
       "\n",
       "    .dataframe thead th {\n",
       "        text-align: right;\n",
       "    }\n",
       "</style>\n",
       "<table border=\"1\" class=\"dataframe\">\n",
       "  <thead>\n",
       "    <tr style=\"text-align: right;\">\n",
       "      <th></th>\n",
       "      <th>Artist</th>\n",
       "      <th>Lyrics</th>\n",
       "      <th>Sentiment</th>\n",
       "    </tr>\n",
       "  </thead>\n",
       "  <tbody>\n",
       "    <tr>\n",
       "      <th>0</th>\n",
       "      <td>Taylor Swift Lyrics</td>\n",
       "      <td>let me know how's it feel \\n to be under my sk...</td>\n",
       "      <td>Negative</td>\n",
       "    </tr>\n",
       "    <tr>\n",
       "      <th>1</th>\n",
       "      <td>Taylor Swift Lyrics</td>\n",
       "      <td>i can't believe you did it again \\n walked by ...</td>\n",
       "      <td>Negative</td>\n",
       "    </tr>\n",
       "    <tr>\n",
       "      <th>2</th>\n",
       "      <td>Taylor Swift Lyrics</td>\n",
       "      <td>taylor swift \\n âcause baby now we've got bad ...</td>\n",
       "      <td>Negative</td>\n",
       "    </tr>\n",
       "    <tr>\n",
       "      <th>3</th>\n",
       "      <td>Taylor Swift Lyrics</td>\n",
       "      <td>here in my mind the sky looks the same \\n on e...</td>\n",
       "      <td>Negative</td>\n",
       "    </tr>\n",
       "    <tr>\n",
       "      <th>4</th>\n",
       "      <td>Taylor Swift Lyrics</td>\n",
       "      <td>throwing pennies at the fountain  \\n when you'...</td>\n",
       "      <td>Negative</td>\n",
       "    </tr>\n",
       "  </tbody>\n",
       "</table>\n",
       "</div>\n",
       "    <div class=\"colab-df-buttons\">\n",
       "\n",
       "  <div class=\"colab-df-container\">\n",
       "    <button class=\"colab-df-convert\" onclick=\"convertToInteractive('df-cb5ecf8c-2eba-46c2-bee2-38fe8287e591')\"\n",
       "            title=\"Convert this dataframe to an interactive table.\"\n",
       "            style=\"display:none;\">\n",
       "\n",
       "  <svg xmlns=\"http://www.w3.org/2000/svg\" height=\"24px\" viewBox=\"0 -960 960 960\">\n",
       "    <path d=\"M120-120v-720h720v720H120Zm60-500h600v-160H180v160Zm220 220h160v-160H400v160Zm0 220h160v-160H400v160ZM180-400h160v-160H180v160Zm440 0h160v-160H620v160ZM180-180h160v-160H180v160Zm440 0h160v-160H620v160Z\"/>\n",
       "  </svg>\n",
       "    </button>\n",
       "\n",
       "  <style>\n",
       "    .colab-df-container {\n",
       "      display:flex;\n",
       "      gap: 12px;\n",
       "    }\n",
       "\n",
       "    .colab-df-convert {\n",
       "      background-color: #E8F0FE;\n",
       "      border: none;\n",
       "      border-radius: 50%;\n",
       "      cursor: pointer;\n",
       "      display: none;\n",
       "      fill: #1967D2;\n",
       "      height: 32px;\n",
       "      padding: 0 0 0 0;\n",
       "      width: 32px;\n",
       "    }\n",
       "\n",
       "    .colab-df-convert:hover {\n",
       "      background-color: #E2EBFA;\n",
       "      box-shadow: 0px 1px 2px rgba(60, 64, 67, 0.3), 0px 1px 3px 1px rgba(60, 64, 67, 0.15);\n",
       "      fill: #174EA6;\n",
       "    }\n",
       "\n",
       "    .colab-df-buttons div {\n",
       "      margin-bottom: 4px;\n",
       "    }\n",
       "\n",
       "    [theme=dark] .colab-df-convert {\n",
       "      background-color: #3B4455;\n",
       "      fill: #D2E3FC;\n",
       "    }\n",
       "\n",
       "    [theme=dark] .colab-df-convert:hover {\n",
       "      background-color: #434B5C;\n",
       "      box-shadow: 0px 1px 3px 1px rgba(0, 0, 0, 0.15);\n",
       "      filter: drop-shadow(0px 1px 2px rgba(0, 0, 0, 0.3));\n",
       "      fill: #FFFFFF;\n",
       "    }\n",
       "  </style>\n",
       "\n",
       "    <script>\n",
       "      const buttonEl =\n",
       "        document.querySelector('#df-cb5ecf8c-2eba-46c2-bee2-38fe8287e591 button.colab-df-convert');\n",
       "      buttonEl.style.display =\n",
       "        google.colab.kernel.accessAllowed ? 'block' : 'none';\n",
       "\n",
       "      async function convertToInteractive(key) {\n",
       "        const element = document.querySelector('#df-cb5ecf8c-2eba-46c2-bee2-38fe8287e591');\n",
       "        const dataTable =\n",
       "          await google.colab.kernel.invokeFunction('convertToInteractive',\n",
       "                                                    [key], {});\n",
       "        if (!dataTable) return;\n",
       "\n",
       "        const docLinkHtml = 'Like what you see? Visit the ' +\n",
       "          '<a target=\"_blank\" href=https://colab.research.google.com/notebooks/data_table.ipynb>data table notebook</a>'\n",
       "          + ' to learn more about interactive tables.';\n",
       "        element.innerHTML = '';\n",
       "        dataTable['output_type'] = 'display_data';\n",
       "        await google.colab.output.renderOutput(dataTable, element);\n",
       "        const docLink = document.createElement('div');\n",
       "        docLink.innerHTML = docLinkHtml;\n",
       "        element.appendChild(docLink);\n",
       "      }\n",
       "    </script>\n",
       "  </div>\n",
       "\n",
       "\n",
       "<div id=\"df-ee94944a-d5f6-47aa-9cc0-071026b50b0e\">\n",
       "  <button class=\"colab-df-quickchart\" onclick=\"quickchart('df-ee94944a-d5f6-47aa-9cc0-071026b50b0e')\"\n",
       "            title=\"Suggest charts\"\n",
       "            style=\"display:none;\">\n",
       "\n",
       "<svg xmlns=\"http://www.w3.org/2000/svg\" height=\"24px\"viewBox=\"0 0 24 24\"\n",
       "     width=\"24px\">\n",
       "    <g>\n",
       "        <path d=\"M19 3H5c-1.1 0-2 .9-2 2v14c0 1.1.9 2 2 2h14c1.1 0 2-.9 2-2V5c0-1.1-.9-2-2-2zM9 17H7v-7h2v7zm4 0h-2V7h2v10zm4 0h-2v-4h2v4z\"/>\n",
       "    </g>\n",
       "</svg>\n",
       "  </button>\n",
       "\n",
       "<style>\n",
       "  .colab-df-quickchart {\n",
       "      --bg-color: #E8F0FE;\n",
       "      --fill-color: #1967D2;\n",
       "      --hover-bg-color: #E2EBFA;\n",
       "      --hover-fill-color: #174EA6;\n",
       "      --disabled-fill-color: #AAA;\n",
       "      --disabled-bg-color: #DDD;\n",
       "  }\n",
       "\n",
       "  [theme=dark] .colab-df-quickchart {\n",
       "      --bg-color: #3B4455;\n",
       "      --fill-color: #D2E3FC;\n",
       "      --hover-bg-color: #434B5C;\n",
       "      --hover-fill-color: #FFFFFF;\n",
       "      --disabled-bg-color: #3B4455;\n",
       "      --disabled-fill-color: #666;\n",
       "  }\n",
       "\n",
       "  .colab-df-quickchart {\n",
       "    background-color: var(--bg-color);\n",
       "    border: none;\n",
       "    border-radius: 50%;\n",
       "    cursor: pointer;\n",
       "    display: none;\n",
       "    fill: var(--fill-color);\n",
       "    height: 32px;\n",
       "    padding: 0;\n",
       "    width: 32px;\n",
       "  }\n",
       "\n",
       "  .colab-df-quickchart:hover {\n",
       "    background-color: var(--hover-bg-color);\n",
       "    box-shadow: 0 1px 2px rgba(60, 64, 67, 0.3), 0 1px 3px 1px rgba(60, 64, 67, 0.15);\n",
       "    fill: var(--button-hover-fill-color);\n",
       "  }\n",
       "\n",
       "  .colab-df-quickchart-complete:disabled,\n",
       "  .colab-df-quickchart-complete:disabled:hover {\n",
       "    background-color: var(--disabled-bg-color);\n",
       "    fill: var(--disabled-fill-color);\n",
       "    box-shadow: none;\n",
       "  }\n",
       "\n",
       "  .colab-df-spinner {\n",
       "    border: 2px solid var(--fill-color);\n",
       "    border-color: transparent;\n",
       "    border-bottom-color: var(--fill-color);\n",
       "    animation:\n",
       "      spin 1s steps(1) infinite;\n",
       "  }\n",
       "\n",
       "  @keyframes spin {\n",
       "    0% {\n",
       "      border-color: transparent;\n",
       "      border-bottom-color: var(--fill-color);\n",
       "      border-left-color: var(--fill-color);\n",
       "    }\n",
       "    20% {\n",
       "      border-color: transparent;\n",
       "      border-left-color: var(--fill-color);\n",
       "      border-top-color: var(--fill-color);\n",
       "    }\n",
       "    30% {\n",
       "      border-color: transparent;\n",
       "      border-left-color: var(--fill-color);\n",
       "      border-top-color: var(--fill-color);\n",
       "      border-right-color: var(--fill-color);\n",
       "    }\n",
       "    40% {\n",
       "      border-color: transparent;\n",
       "      border-right-color: var(--fill-color);\n",
       "      border-top-color: var(--fill-color);\n",
       "    }\n",
       "    60% {\n",
       "      border-color: transparent;\n",
       "      border-right-color: var(--fill-color);\n",
       "    }\n",
       "    80% {\n",
       "      border-color: transparent;\n",
       "      border-right-color: var(--fill-color);\n",
       "      border-bottom-color: var(--fill-color);\n",
       "    }\n",
       "    90% {\n",
       "      border-color: transparent;\n",
       "      border-bottom-color: var(--fill-color);\n",
       "    }\n",
       "  }\n",
       "</style>\n",
       "\n",
       "  <script>\n",
       "    async function quickchart(key) {\n",
       "      const quickchartButtonEl =\n",
       "        document.querySelector('#' + key + ' button');\n",
       "      quickchartButtonEl.disabled = true;  // To prevent multiple clicks.\n",
       "      quickchartButtonEl.classList.add('colab-df-spinner');\n",
       "      try {\n",
       "        const charts = await google.colab.kernel.invokeFunction(\n",
       "            'suggestCharts', [key], {});\n",
       "      } catch (error) {\n",
       "        console.error('Error during call to suggestCharts:', error);\n",
       "      }\n",
       "      quickchartButtonEl.classList.remove('colab-df-spinner');\n",
       "      quickchartButtonEl.classList.add('colab-df-quickchart-complete');\n",
       "    }\n",
       "    (() => {\n",
       "      let quickchartButtonEl =\n",
       "        document.querySelector('#df-ee94944a-d5f6-47aa-9cc0-071026b50b0e button');\n",
       "      quickchartButtonEl.style.display =\n",
       "        google.colab.kernel.accessAllowed ? 'block' : 'none';\n",
       "    })();\n",
       "  </script>\n",
       "</div>\n",
       "\n",
       "    </div>\n",
       "  </div>\n"
      ],
      "text/plain": [
       "                Artist                                             Lyrics  \\\n",
       "0  Taylor Swift Lyrics  let me know how's it feel \\n to be under my sk...   \n",
       "1  Taylor Swift Lyrics  i can't believe you did it again \\n walked by ...   \n",
       "2  Taylor Swift Lyrics  taylor swift \\n âcause baby now we've got bad ...   \n",
       "3  Taylor Swift Lyrics  here in my mind the sky looks the same \\n on e...   \n",
       "4  Taylor Swift Lyrics  throwing pennies at the fountain  \\n when you'...   \n",
       "\n",
       "  Sentiment  \n",
       "0  Negative  \n",
       "1  Negative  \n",
       "2  Negative  \n",
       "3  Negative  \n",
       "4  Negative  "
      ]
     },
     "execution_count": 8,
     "metadata": {},
     "output_type": "execute_result"
    }
   ],
   "source": [
    "# Uncomment this line to reduce size of dataset for faster training - negative dataset.\n",
    "negdf = negdf.head(300)\n",
    "negdf.head()"
   ]
  },
  {
   "cell_type": "code",
   "execution_count": 9,
   "id": "9fda0cab",
   "metadata": {
    "id": "9fda0cab"
   },
   "outputs": [],
   "source": [
    "def replacenewline(dataframe):\n",
    "    '''\n",
    "    Cleans up lyrics by changing \\n to 'newline' to help tokenizer and removes unnecessary junk terms.\n",
    "    param dataframe: datadframe to remove from.\n",
    "    '''\n",
    "    dataframe['Lyrics'] = dataframe['Lyrics'].str.replace(r\"\\n\", \"newline\", regex=True)\n",
    "    dataframe['Lyrics'] = dataframe['Lyrics'].str.replace(r\"urlembedcopy\", \"\", regex=True)\n",
    "    dataframe['Lyrics'] = dataframe['Lyrics'].str.replace(r\"urlcopyembedcopy\", \"\", regex=True)\n",
    "    dataframe['Lyrics'] = dataframe['Lyrics'].str.replace(r\"roamembedshare\", \"\", regex=True)"
   ]
  },
  {
   "cell_type": "code",
   "execution_count": 10,
   "id": "812df787",
   "metadata": {
    "id": "812df787"
   },
   "outputs": [],
   "source": [
    "replacenewline(posdf)\n",
    "replacenewline(negdf)"
   ]
  },
  {
   "cell_type": "code",
   "execution_count": 11,
   "id": "eb1084a0",
   "metadata": {
    "id": "eb1084a0"
   },
   "outputs": [],
   "source": [
    "# get combined lyrics in one list.\n",
    "combined_lyrics_pos = posdf['Lyrics'].str.cat(sep = ' newline ')\n",
    "combined_lyrics_neg = negdf['Lyrics'].str.cat(sep = ' newline ')"
   ]
  },
  {
   "cell_type": "code",
   "execution_count": 12,
   "id": "3c2f5427",
   "metadata": {
    "id": "3c2f5427"
   },
   "outputs": [],
   "source": [
    "def getcleantoks(temp_tokens):\n",
    "    '''\n",
    "    Removes empty tokens from list.\n",
    "    '''\n",
    "    tokens = []\n",
    "    for tok in temp_tokens:\n",
    "        if len(tok) > 0:\n",
    "            tokens.append(tok)\n",
    "    return tokens"
   ]
  },
  {
   "cell_type": "code",
   "execution_count": 13,
   "id": "909ba983",
   "metadata": {
    "id": "909ba983"
   },
   "outputs": [],
   "source": [
    "pos_tokens = getcleantoks(combined_lyrics_pos.split(\" \"))\n",
    "neg_tokens = getcleantoks(combined_lyrics_neg.split(\" \"))"
   ]
  },
  {
   "cell_type": "code",
   "execution_count": 14,
   "id": "df61120e",
   "metadata": {
    "colab": {
     "base_uri": "https://localhost:8080/"
    },
    "id": "df61120e",
    "outputId": "50f1950b-878f-412a-cd60-ed1273168232"
   },
   "outputs": [
    {
     "data": {
      "text/plain": [
       "['i',\n",
       " 'said',\n",
       " 'remember',\n",
       " 'this',\n",
       " 'moment',\n",
       " 'newline',\n",
       " 'in',\n",
       " 'the',\n",
       " 'back',\n",
       " 'of']"
      ]
     },
     "execution_count": 14,
     "metadata": {},
     "output_type": "execute_result"
    }
   ],
   "source": [
    "pos_tokens[:10]"
   ]
  },
  {
   "cell_type": "code",
   "execution_count": 15,
   "id": "7986ed89",
   "metadata": {
    "colab": {
     "base_uri": "https://localhost:8080/"
    },
    "id": "7986ed89",
    "outputId": "59ba50eb-534b-475e-c5bc-f87d0eb7c81f"
   },
   "outputs": [
    {
     "data": {
      "text/plain": [
       "['let', 'me', 'know', \"how's\", 'it', 'feel', 'newline', 'to', 'be', 'under']"
      ]
     },
     "execution_count": 15,
     "metadata": {},
     "output_type": "execute_result"
    }
   ],
   "source": [
    "neg_tokens[:10]"
   ]
  },
  {
   "cell_type": "code",
   "execution_count": 16,
   "id": "cc39b26f",
   "metadata": {
    "id": "cc39b26f"
   },
   "outputs": [],
   "source": [
    "#pos_tokens = pos_tokens[0:20000]"
   ]
  },
  {
   "cell_type": "code",
   "execution_count": 17,
   "id": "21c3ac3e",
   "metadata": {
    "colab": {
     "base_uri": "https://localhost:8080/"
    },
    "id": "21c3ac3e",
    "outputId": "5612c07c-ab51-48fe-f930-c08b5292c323"
   },
   "outputs": [
    {
     "data": {
      "text/plain": [
       "113126"
      ]
     },
     "execution_count": 17,
     "metadata": {},
     "output_type": "execute_result"
    }
   ],
   "source": [
    "#Number of positive tokens\n",
    "len(pos_tokens)"
   ]
  },
  {
   "cell_type": "code",
   "execution_count": 18,
   "id": "7ad3426b",
   "metadata": {
    "colab": {
     "base_uri": "https://localhost:8080/"
    },
    "id": "7ad3426b",
    "outputId": "e8d132df-284e-45a0-8151-deebb881a841"
   },
   "outputs": [
    {
     "data": {
      "text/plain": [
       "125089"
      ]
     },
     "execution_count": 18,
     "metadata": {},
     "output_type": "execute_result"
    }
   ],
   "source": [
    "# Number of negative tokens\n",
    "len(neg_tokens)"
   ]
  },
  {
   "cell_type": "code",
   "execution_count": 19,
   "id": "6d8c5385",
   "metadata": {
    "id": "6d8c5385"
   },
   "outputs": [],
   "source": [
    "#label_list --- last word of the training_list of tokens,\n",
    "#it will be used to predict the next possible words once the model is trained on the training_list"
   ]
  },
  {
   "cell_type": "code",
   "execution_count": 20,
   "id": "4c79bfbb",
   "metadata": {
    "id": "4c79bfbb"
   },
   "outputs": [],
   "source": [
    "def generateTrainingSet(tokens, n):\n",
    "    '''\n",
    "    converts the token list into dataset with x values bwing wi to wk-1 and y being wk.\n",
    "    param tokens: list og tokens\n",
    "    param n: the size of n gram representation.\n",
    "    '''\n",
    "    training_list = []\n",
    "    label_list = []\n",
    "    for i in range(len(tokens)):\n",
    "        if i + n > len(tokens) - 1:\n",
    "            break\n",
    "        training_list.append(tokens[i:i+n])\n",
    "        label_list.append(tokens[i+n])\n",
    "\n",
    "    return np.asarray(training_list), np.asarray(label_list)"
   ]
  },
  {
   "cell_type": "code",
   "execution_count": 21,
   "id": "JAuhoqZ08YHR",
   "metadata": {
    "id": "JAuhoqZ08YHR"
   },
   "outputs": [],
   "source": [
    "from keras.preprocessing.sequence import pad_sequences\n",
    "import numpy as np\n",
    "\n",
    "def generateTrainingSet(tokens, n):\n",
    "    training_list = []\n",
    "    label_list = []\n",
    "    for i in range(len(tokens)):\n",
    "        if i + n >= len(tokens):\n",
    "            break\n",
    "        training_list.append(tokens[i:i+n])\n",
    "        label_list.append(tokens[i+n])\n",
    "\n",
    "    # Ensure each sequence in training_list is non-empty\n",
    "    if any(len(seq) != n for seq in training_list):\n",
    "        print(\"Error: Not all sequences have length\", n)\n",
    "\n",
    "    # Pad the sequences\n",
    "    training_list = pad_sequences(training_list, maxlen=n, padding='post', dtype='int32')\n",
    "\n",
    "    return np.asarray(training_list), np.asarray(label_list)\n"
   ]
  },
  {
   "cell_type": "code",
   "execution_count": 22,
   "id": "597699f7",
   "metadata": {
    "id": "597699f7"
   },
   "outputs": [],
   "source": [
    "# Encode positive data.\n",
    "tokenizer_positive = Tokenizer()\n",
    "tokenizer_positive.fit_on_texts(pos_tokens)\n",
    "encoded_pos = tokenizer_positive.texts_to_sequences(pos_tokens)"
   ]
  },
  {
   "cell_type": "code",
   "execution_count": 23,
   "id": "ed25ed40",
   "metadata": {
    "colab": {
     "base_uri": "https://localhost:8080/",
     "height": 35
    },
    "id": "ed25ed40",
    "outputId": "92276b5c-e5e0-4d3c-c8a2-10de41cc0836"
   },
   "outputs": [
    {
     "data": {
      "application/vnd.google.colaboratory.intrinsic+json": {
       "type": "string"
      },
      "text/plain": [
       "'newline'"
      ]
     },
     "execution_count": 23,
     "metadata": {},
     "output_type": "execute_result"
    }
   ],
   "source": [
    "tokenizer_positive.word_index[\"newline\"]\n",
    "tokenizer_positive.index_word[1]"
   ]
  },
  {
   "cell_type": "code",
   "execution_count": 24,
   "id": "5d2081d8",
   "metadata": {
    "id": "5d2081d8"
   },
   "outputs": [],
   "source": [
    "# Encode negative data.\n",
    "tokenizer_negative = Tokenizer()\n",
    "tokenizer_negative.fit_on_texts(neg_tokens)\n",
    "encoded_neg = tokenizer_negative.texts_to_sequences(neg_tokens)"
   ]
  },
  {
   "cell_type": "code",
   "execution_count": 25,
   "id": "ugPYSZxG7IJn",
   "metadata": {
    "colab": {
     "base_uri": "https://localhost:8080/",
     "height": 35
    },
    "id": "ugPYSZxG7IJn",
    "outputId": "4b71fe30-d8e1-4cd0-ef1a-8203c7005dbc"
   },
   "outputs": [
    {
     "data": {
      "application/vnd.google.colaboratory.intrinsic+json": {
       "type": "string"
      },
      "text/plain": [
       "'newline'"
      ]
     },
     "execution_count": 25,
     "metadata": {},
     "output_type": "execute_result"
    }
   ],
   "source": [
    "len(encoded_neg)\n",
    "tokenizer_negative.word_index[\"newline\"]\n",
    "tokenizer_negative.index_word[1]"
   ]
  },
  {
   "cell_type": "code",
   "execution_count": 26,
   "id": "b6fe0d3e",
   "metadata": {
    "id": "b6fe0d3e"
   },
   "outputs": [],
   "source": [
    "posX, posY = generateTrainingSet(encoded_pos, 8)\n",
    "negX, negY = generateTrainingSet(encoded_neg, 8)"
   ]
  },
  {
   "cell_type": "code",
   "execution_count": 27,
   "id": "93860828",
   "metadata": {
    "colab": {
     "base_uri": "https://localhost:8080/"
    },
    "id": "93860828",
    "outputId": "bd68ddd6-3536-4708-fb26-99d00514d4d3"
   },
   "outputs": [
    {
     "data": {
      "text/plain": [
       "(113118, 1)"
      ]
     },
     "execution_count": 27,
     "metadata": {},
     "output_type": "execute_result"
    }
   ],
   "source": [
    "posY.shape"
   ]
  },
  {
   "cell_type": "code",
   "execution_count": 28,
   "id": "b88a508f",
   "metadata": {
    "colab": {
     "base_uri": "https://localhost:8080/"
    },
    "id": "b88a508f",
    "outputId": "6718dc43-68ce-4244-8486-7eabdf21bfc9"
   },
   "outputs": [
    {
     "data": {
      "text/plain": [
       "(113118, 8, 1)"
      ]
     },
     "execution_count": 28,
     "metadata": {},
     "output_type": "execute_result"
    }
   ],
   "source": [
    "posX.shape"
   ]
  },
  {
   "cell_type": "code",
   "execution_count": 29,
   "id": "993ac9bf",
   "metadata": {
    "id": "993ac9bf"
   },
   "outputs": [],
   "source": [
    "posX = posX.reshape((len(posX),8))\n",
    "posY = posY.reshape((len(posY), ))"
   ]
  },
  {
   "cell_type": "code",
   "execution_count": 30,
   "id": "0e68a386",
   "metadata": {
    "colab": {
     "base_uri": "https://localhost:8080/"
    },
    "id": "0e68a386",
    "outputId": "4c4dd278-b28e-4f56-adc8-5b3b202cfeb1"
   },
   "outputs": [
    {
     "data": {
      "text/plain": [
       "array([[  3, 109, 182, ...,   1,  11,   4],\n",
       "       [109, 182,  25, ...,  11,   4,  60],\n",
       "       [182,  25, 604, ...,   4,  60,  17],\n",
       "       ...,\n",
       "       [  1, 111,  75, ...,   1, 111,  75],\n",
       "       [111,  75,  18, ..., 111,  75,  18],\n",
       "       [ 75,  18, 316, ...,  75,  18, 316]], dtype=int32)"
      ]
     },
     "execution_count": 30,
     "metadata": {},
     "output_type": "execute_result"
    }
   ],
   "source": [
    "posX"
   ]
  },
  {
   "cell_type": "code",
   "execution_count": 31,
   "id": "03d8dc9b",
   "metadata": {
    "colab": {
     "base_uri": "https://localhost:8080/"
    },
    "id": "03d8dc9b",
    "outputId": "2012e0e9-119d-4bce-b525-8c75828950a4"
   },
   "outputs": [
    {
     "data": {
      "text/plain": [
       "array([ 60,  17,  10, ...,  18, 316,  40])"
      ]
     },
     "execution_count": 31,
     "metadata": {},
     "output_type": "execute_result"
    }
   ],
   "source": [
    "posY"
   ]
  },
  {
   "cell_type": "code",
   "execution_count": 32,
   "id": "78f67601",
   "metadata": {
    "colab": {
     "base_uri": "https://localhost:8080/"
    },
    "id": "78f67601",
    "outputId": "d9b8ee75-369c-4845-e307-b0f0042b5ca2"
   },
   "outputs": [
    {
     "data": {
      "text/plain": [
       "(113118,)"
      ]
     },
     "execution_count": 32,
     "metadata": {},
     "output_type": "execute_result"
    }
   ],
   "source": [
    "posY.shape"
   ]
  },
  {
   "cell_type": "code",
   "execution_count": 33,
   "id": "6b52313f",
   "metadata": {
    "id": "6b52313f"
   },
   "outputs": [],
   "source": [
    "negX = negX.reshape((len(negX),8))\n",
    "negY = negY.reshape((len(negY), ))"
   ]
  },
  {
   "cell_type": "markdown",
   "id": "f136c72d",
   "metadata": {
    "id": "f136c72d"
   },
   "source": [
    "# Creating models"
   ]
  },
  {
   "cell_type": "code",
   "execution_count": 34,
   "id": "d6e5b7a2",
   "metadata": {
    "id": "d6e5b7a2"
   },
   "outputs": [],
   "source": [
    "class LSTMModel(nn.Module):\n",
    "    '''\n",
    "    LSTM model with embedding layer, lstm layer and fully connected layer.\n",
    "    '''\n",
    "\n",
    "    def __init__(self, vocab_size):\n",
    "        super().__init__()\n",
    "        self.embedding_size = 200\n",
    "        self.embed = nn.Embedding(vocab_size, self.embedding_size)\n",
    "        self.lstmlayer = nn.LSTM(input_size = self.embedding_size, hidden_size = 128, num_layers = 2, dropout = 0.1)\n",
    "        self.ln1 = nn.Linear(128, vocab_size)\n",
    "        #self.ln2 = nn.Linear(256, vocab_size)\n",
    "\n",
    "    def forward(self, x):\n",
    "        layer1 = self.embed(x.t())\n",
    "        layer2, junk = self.lstmlayer(layer1)\n",
    "        layer3 = self.ln1(layer2[-1])\n",
    "        #layer4 = self.ln2(layer3[-1])\n",
    "        return layer3\n"
   ]
  },
  {
   "cell_type": "code",
   "execution_count": 35,
   "id": "cd4ae4a7",
   "metadata": {
    "id": "cd4ae4a7"
   },
   "outputs": [],
   "source": [
    "class RNNModel(nn.Module):\n",
    "    '''\n",
    "    RNN model with embedding layer, lstm layer and fully connected layer.\n",
    "    '''\n",
    "\n",
    "    def __init__(self, vocab_size):\n",
    "        super().__init__()\n",
    "        self.embedding_size = 200\n",
    "        self.embed = nn.Embedding(vocab_size, self.embedding_size)\n",
    "        self.lstmlayer = nn.RNN(input_size = self.embedding_size, hidden_size = 128, num_layers = 2, dropout = 0.1)\n",
    "        self.ln1 = nn.Linear(128, vocab_size)\n",
    "        #self.ln2 = nn.Linear(256, vocab_size)\n",
    "\n",
    "    def forward(self, x):\n",
    "        layer1 = self.embed(x.t())\n",
    "        layer2, junk = self.lstmlayer(layer1)\n",
    "        layer3 = self.ln1(layer2[-1])\n",
    "        #layer4 = self.ln2(layer3[-1])\n",
    "        return layer3\n"
   ]
  },
  {
   "cell_type": "code",
   "execution_count": 36,
   "id": "9d23b91e",
   "metadata": {
    "id": "9d23b91e"
   },
   "outputs": [],
   "source": [
    "posX_train = torch.tensor(posX, dtype=torch.long)\n",
    "posY_train = torch.tensor(posY, dtype=torch.long)"
   ]
  },
  {
   "cell_type": "code",
   "execution_count": 37,
   "id": "e85860ad",
   "metadata": {
    "colab": {
     "base_uri": "https://localhost:8080/"
    },
    "id": "e85860ad",
    "outputId": "69aa07bb-088f-4d35-f0fa-3d37b6472268"
   },
   "outputs": [
    {
     "data": {
      "text/plain": [
       "torch.Size([113118, 8])"
      ]
     },
     "execution_count": 37,
     "metadata": {},
     "output_type": "execute_result"
    }
   ],
   "source": [
    "posX_train.shape"
   ]
  },
  {
   "cell_type": "code",
   "execution_count": 38,
   "id": "0ab08cb8",
   "metadata": {
    "id": "0ab08cb8"
   },
   "outputs": [],
   "source": [
    "negX_train = torch.tensor(negX, dtype=torch.long)\n",
    "negY_train = torch.tensor(negY, dtype=torch.long)"
   ]
  },
  {
   "cell_type": "code",
   "execution_count": 39,
   "id": "2f16ead7",
   "metadata": {
    "colab": {
     "base_uri": "https://localhost:8080/"
    },
    "id": "2f16ead7",
    "outputId": "bf2a2d35-5928-4cc4-d21c-66e41e5f4c2a"
   },
   "outputs": [
    {
     "data": {
      "text/plain": [
       "4760"
      ]
     },
     "execution_count": 39,
     "metadata": {},
     "output_type": "execute_result"
    }
   ],
   "source": [
    "len(set(pos_tokens))"
   ]
  },
  {
   "cell_type": "code",
   "execution_count": 40,
   "id": "c345581d",
   "metadata": {
    "id": "c345581d"
   },
   "outputs": [],
   "source": [
    "pos_model = LSTMModel(len(set(pos_tokens)) + 1)\n",
    "neg_model = LSTMModel(len(set(neg_tokens)) + 1)"
   ]
  },
  {
   "cell_type": "code",
   "execution_count": 41,
   "id": "43f32b8b",
   "metadata": {
    "id": "43f32b8b"
   },
   "outputs": [],
   "source": [
    "def getdataloader(x, y):\n",
    "    '''\n",
    "    Dataloader from torch to feed data one by one.\n",
    "    '''\n",
    "    return torch.utils.data.DataLoader(torch.utils.data.TensorDataset(x, y,), batch_size = 128)\n"
   ]
  },
  {
   "cell_type": "code",
   "execution_count": 42,
   "id": "4af66439",
   "metadata": {
    "id": "4af66439"
   },
   "outputs": [],
   "source": [
    "pos_train_dload = getdataloader(posX_train, posY_train)\n",
    "neg_train_dload = getdataloader(negX_train, negY_train)"
   ]
  },
  {
   "cell_type": "code",
   "execution_count": 43,
   "id": "eaac9311",
   "metadata": {
    "id": "eaac9311"
   },
   "outputs": [],
   "source": [
    "# Optimizers and learning rate\n",
    "learning_rate = 0.001\n",
    "optimpos = torch.optim.Adam(pos_model.parameters(), lr = learning_rate)\n",
    "optimneg = torch.optim.Adam(neg_model.parameters(), lr = learning_rate)"
   ]
  },
  {
   "cell_type": "markdown",
   "id": "59033dd4",
   "metadata": {
    "id": "59033dd4"
   },
   "source": [
    "# Train the models"
   ]
  },
  {
   "cell_type": "code",
   "execution_count": 44,
   "id": "8ca58915",
   "metadata": {
    "id": "8ca58915"
   },
   "outputs": [],
   "source": [
    "def train(model, max_epochs, dataloader, opt):\n",
    "    '''\n",
    "    Trains the torch network\n",
    "    '''\n",
    "    for epoch in range(max_epochs):\n",
    "        start = time.time()\n",
    "        print(\"epoch \", epoch,\"/\", max_epochs, end = \" \")\n",
    "        model.train()\n",
    "        cel = 0\n",
    "        crossentropyloss = torch.nn.CrossEntropyLoss()\n",
    "        counter = 9\n",
    "        temploss = 0.0\n",
    "        for i, (x, y) in enumerate(dataloader):\n",
    "            pred_y = model(x)\n",
    "            L = crossentropyloss(pred_y, y)\n",
    "            opt.zero_grad()\n",
    "            counter = 0\n",
    "            for k in range(5):\n",
    "                counter += 1\n",
    "            L.backward()\n",
    "            counter -= 1\n",
    "            opt.step()\n",
    "            counter += 1\n",
    "            temploss+= L.item()/len(dataloader)\n",
    "        endtime = time.time() - start\n",
    "        print('loss={:.5f}    time={:.1f}s'.format(temploss, endtime))\n"
   ]
  },
  {
   "cell_type": "code",
   "execution_count": 45,
   "id": "680ea459",
   "metadata": {
    "colab": {
     "base_uri": "https://localhost:8080/"
    },
    "id": "680ea459",
    "outputId": "42705e3d-6874-4beb-81bb-d78c3607ce26"
   },
   "outputs": [
    {
     "name": "stdout",
     "output_type": "stream",
     "text": [
      "epoch  0 / 3 loss=5.65082    time=41.0s\n",
      "epoch  1 / 3 loss=5.03237    time=45.8s\n",
      "epoch  2 / 3 loss=4.71230    time=48.3s\n"
     ]
    }
   ],
   "source": [
    "# training positive model with lstm\n",
    "train(pos_model, 3, pos_train_dload, optimpos)"
   ]
  },
  {
   "cell_type": "code",
   "execution_count": 46,
   "id": "29eb6214",
   "metadata": {
    "colab": {
     "base_uri": "https://localhost:8080/"
    },
    "id": "29eb6214",
    "outputId": "e434cc90-6040-4b41-e35d-39346f10c078"
   },
   "outputs": [
    {
     "name": "stdout",
     "output_type": "stream",
     "text": [
      "epoch  0 / 3 loss=5.77175    time=55.3s\n",
      "epoch  1 / 3 loss=5.14538    time=55.2s\n",
      "epoch  2 / 3 loss=4.81936    time=49.3s\n"
     ]
    }
   ],
   "source": [
    "#training negative model with lstm\n",
    "train(neg_model, 3, neg_train_dload, optimneg)"
   ]
  },
  {
   "cell_type": "code",
   "execution_count": 47,
   "id": "99db36e4",
   "metadata": {
    "colab": {
     "base_uri": "https://localhost:8080/"
    },
    "id": "99db36e4",
    "outputId": "c724c4e9-1904-412c-ed92-111ab37f3f4c"
   },
   "outputs": [
    {
     "data": {
      "text/plain": [
       "torch.Size([113118, 8])"
      ]
     },
     "execution_count": 47,
     "metadata": {},
     "output_type": "execute_result"
    }
   ],
   "source": [
    "posX_train.shape"
   ]
  },
  {
   "cell_type": "code",
   "execution_count": 48,
   "id": "f0e34a9e",
   "metadata": {
    "colab": {
     "base_uri": "https://localhost:8080/"
    },
    "id": "f0e34a9e",
    "outputId": "51af8654-e5dc-46d7-f2c0-f448f04a49f5"
   },
   "outputs": [
    {
     "data": {
      "text/plain": [
       "torch.Size([113118])"
      ]
     },
     "execution_count": 48,
     "metadata": {},
     "output_type": "execute_result"
    }
   ],
   "source": [
    "posY_train.shape"
   ]
  },
  {
   "cell_type": "code",
   "execution_count": 49,
   "id": "a370ba0c",
   "metadata": {
    "id": "a370ba0c"
   },
   "outputs": [],
   "source": [
    "pos_rnn = RNNModel(len(set(pos_tokens)) + 1)\n",
    "neg_rnn = RNNModel(len(set(neg_tokens)) + 1)"
   ]
  },
  {
   "cell_type": "code",
   "execution_count": 50,
   "id": "2b3667f1",
   "metadata": {
    "id": "2b3667f1"
   },
   "outputs": [],
   "source": [
    "optimposrnn = torch.optim.Adam(pos_rnn.parameters(), lr = learning_rate)\n",
    "optimnegrnn = torch.optim.Adam(neg_rnn.parameters(), lr = learning_rate)"
   ]
  },
  {
   "cell_type": "code",
   "execution_count": 51,
   "id": "feafb6db",
   "metadata": {
    "colab": {
     "base_uri": "https://localhost:8080/"
    },
    "id": "feafb6db",
    "outputId": "3bc6a6ed-2169-4b21-d370-63b41ec2d7ac"
   },
   "outputs": [
    {
     "name": "stdout",
     "output_type": "stream",
     "text": [
      "epoch  0 / 3 loss=5.53188    time=24.8s\n",
      "epoch  1 / 3 loss=4.80819    time=24.9s\n",
      "epoch  2 / 3 loss=4.42595    time=28.5s\n"
     ]
    }
   ],
   "source": [
    "# training positive model with rnns\n",
    "train(pos_rnn, 3, pos_train_dload, optimposrnn)"
   ]
  },
  {
   "cell_type": "code",
   "execution_count": 52,
   "id": "K-kAcr5Ubs2E",
   "metadata": {
    "colab": {
     "base_uri": "https://localhost:8080/"
    },
    "id": "K-kAcr5Ubs2E",
    "outputId": "03860292-0aa0-40f9-bb92-f9b78f5f6196"
   },
   "outputs": [
    {
     "name": "stdout",
     "output_type": "stream",
     "text": [
      "epoch  0 / 3 loss=5.58264    time=31.7s\n",
      "epoch  1 / 3 loss=4.83430    time=33.7s\n",
      "epoch  2 / 3 loss=4.43247    time=32.6s\n"
     ]
    }
   ],
   "source": [
    "# training negative model with rnns\n",
    "train(neg_rnn, 3, neg_train_dload, optimnegrnn)"
   ]
  },
  {
   "cell_type": "markdown",
   "id": "c5c9c515",
   "metadata": {
    "id": "c5c9c515"
   },
   "source": [
    "## Generating songs"
   ]
  },
  {
   "cell_type": "code",
   "execution_count": 53,
   "id": "db791a51",
   "metadata": {
    "id": "db791a51"
   },
   "outputs": [],
   "source": [
    "def getseeds(dataset, num):\n",
    "    '''\n",
    "    generate random seeds to generate songs with.\n",
    "    param num - number of seeds to sample\n",
    "    '''\n",
    "    seeds = []\n",
    "    for i in range(num):\n",
    "        temp = []\n",
    "        seed = getcleantoks(dataset['Lyrics'].sample().values[0].split(\" \"))[0:8]\n",
    "        seeds.append(seed)\n",
    "\n",
    "    return seeds\n",
    "\n",
    "pos_seeds = getseeds(posdf, 10)\n",
    "neg_seeds = getseeds(negdf, 10)"
   ]
  },
  {
   "cell_type": "code",
   "execution_count": 54,
   "id": "9eaf656e",
   "metadata": {
    "id": "9eaf656e"
   },
   "outputs": [],
   "source": [
    "def prob_sample(arr):\n",
    "    '''\n",
    "    Sample the predicted output to pick next sequence based on probability distribution and variance.\n",
    "    '''\n",
    "    var = 0.8\n",
    "    probs = np.log(np.asarray(arr).astype('float64'))/var\n",
    "    return np.argmax(np.random.multinomial(1,np.exp(probs)/np.sum(np.exp(probs)),1))\n"
   ]
  },
  {
   "cell_type": "code",
   "execution_count": 55,
   "id": "WZuQ3_qre1tm",
   "metadata": {
    "id": "WZuQ3_qre1tm"
   },
   "outputs": [],
   "source": [
    "def prob_sample(arr):\n",
    "    '''\n",
    "    Sample the predicted output to pick next sequence based on probability distribution and variance.\n",
    "    '''\n",
    "    var = 0.8\n",
    "    probs = np.log(np.asarray(arr).astype('float64'))/var\n",
    "    probs = probs - np.max(probs)\n",
    "    probs = np.exp(probs)/np.sum(np.exp(probs))\n",
    "    return np.argmax(np.random.multinomial(1,probs,1))"
   ]
  },
  {
   "cell_type": "code",
   "execution_count": 56,
   "id": "04fc9f25",
   "metadata": {
    "id": "04fc9f25"
   },
   "outputs": [],
   "source": [
    "def generatesongs(seeds, token, model, maxiter, dims):\n",
    "    '''\n",
    "    generates songs by encoding seeds, passing through model and generating maxiter amount of sequences.\n",
    "    '''\n",
    "    songs = []\n",
    "    counter = 0\n",
    "    for seed in seeds:\n",
    "        sentences = []\n",
    "        start = seed\n",
    "        next_seed = seed\n",
    "        #print(counter)\n",
    "        counter += 1\n",
    "        for i in range(maxiter):\n",
    "            temp = np.zeros(dims)\n",
    "            for index, gen in enumerate(next_seed):\n",
    "                if gen == '\\n':\n",
    "                    gen = 'newline'\n",
    "                temp[0, index] = token.word_index[gen]\n",
    "            predictions = F.softmax(model(Variable(torch.LongTensor(temp))), dim = 1)\n",
    "            predictions = np.array(predictions.data[0].cpu())\n",
    "            generated_string = token.index_word[prob_sample(predictions)]\n",
    "            if generated_string == 'newline':\n",
    "                generated_string = '\\n'\n",
    "            sentences += [generated_string]\n",
    "            next_seed = next_seed[1:] + [generated_string]\n",
    "        songs.append([\" \".join(start+sentences)])\n",
    "\n",
    "    return songs"
   ]
  },
  {
   "cell_type": "code",
   "execution_count": 57,
   "id": "ba2871bf",
   "metadata": {
    "id": "ba2871bf"
   },
   "outputs": [],
   "source": [
    "# generating 10 songs with positive and negative RNN models.\n",
    "positive_songs1 = generatesongs(pos_seeds, tokenizer_positive, pos_rnn, 300, (1,8))\n",
    "negative_songs1 = generatesongs(neg_seeds, tokenizer_negative, neg_rnn, 300, (1,8))"
   ]
  },
  {
   "cell_type": "code",
   "execution_count": 58,
   "id": "bXAGffJ3izCK",
   "metadata": {
    "id": "bXAGffJ3izCK"
   },
   "outputs": [],
   "source": [
    "# generating 10 songs with positive and negative LSTM models.\n",
    "positive_songs = generatesongs(pos_seeds, tokenizer_positive, pos_model, 300, (1,8))\n",
    "negative_songs = generatesongs(neg_seeds, tokenizer_negative, neg_model, 300, (1,8))"
   ]
  },
  {
   "cell_type": "code",
   "execution_count": 59,
   "id": "780f49a3",
   "metadata": {
    "colab": {
     "base_uri": "https://localhost:8080/"
    },
    "id": "780f49a3",
    "outputId": "42f8137a-03ae-4330-98a6-b635464a4868"
   },
   "outputs": [
    {
     "name": "stdout",
     "output_type": "stream",
     "text": [
      "every day i'm grindin' \n",
      " i don't even shouldn't put my nights \n",
      " i gotta be my favorite of \n",
      " it's in love\r",
      " \n",
      " \n",
      " i keep you open \n",
      " i can mash along \n",
      " instead into my heart and save me \n",
      " is taking back to your own exceptional \n",
      " the sean eyes maybe i can't go \n",
      " all the boys qu'on maybe i do \n",
      " i can't need you need \n",
      " i can be my mind with you \n",
      " i keep you \n",
      " i spend up in the rich \n",
      " they just to have to this \n",
      " just like you thinking with you \n",
      " so i talk about what iâm it's tu next \n",
      " i spend my life is davis love \n",
      " if you want my on up \n",
      " i have act this love \n",
      " \n",
      " you want a piece of the speaker \n",
      " you're just talking golden \n",
      " there's a piece of me \n",
      " i'm gonna be bout you \n",
      " we know what i even stop \n",
      " i'm greedy you somethin' \n",
      " i have been so physically \n",
      " fell not feeling me \n",
      " i want you and what you hear you\r",
      " \n",
      " i'm mrs for my life \n",
      " you are\r",
      " in my part on you\r",
      " \n",
      " they look at on my mind\r",
      " \n",
      " \n",
      " i can brighten your arms \n",
      " get it get my eyes\r",
      " \n",
      " that you every \n",
      " you're my \n",
      " life that i know \n",
      " all day your edge of me \n",
      " so just just like you\r",
      " \n",
      " it's wrong close \n",
      " that's you talk \n",
      " you're my days tonight \n",
      " i wanna be a piece of me \n",
      " but i spend my hand now \n",
      " i wanna be here it give it \n",
      " i guess get in the sack \n",
      " down\r",
      " to you \n",
      " you got me out \n",
      " you're just"
     ]
    }
   ],
   "source": [
    "# example of generated positive lyrics with RNN model\n",
    "for token in positive_songs1[3]:\n",
    "    token = re.sub('newline', '\\n', token)\n",
    "    print(token, end = \"\")"
   ]
  },
  {
   "cell_type": "code",
   "execution_count": 73,
   "id": "Nf32IDIscYZA",
   "metadata": {
    "colab": {
     "base_uri": "https://localhost:8080/"
    },
    "id": "Nf32IDIscYZA",
    "outputId": "a239a290-ccec-4b47-a4e8-f17a8c06baa4"
   },
   "outputs": [
    {
     "name": "stdout",
     "output_type": "stream",
     "text": [
      "all this time i was wasting \n",
      " hoping i want it \n",
      " \n",
      " ya lo ves traidor de imprescindible\r",
      " how ago \n",
      " \n",
      " uhhuhh guns we're sin thatâs \n",
      " damn it is at the wheat \n",
      " \n",
      " damn up in the 'bach \n",
      " she gon' be rockin' chinchilla coats \n",
      " if i let you go \n",
      " our visit te amor \n",
      " va a somebody \n",
      " beyonce about the story unfolds \n",
      " most sin tu amor we fuckin \n",
      " you can't know that liar \n",
      " why \n",
      " no nos va locked up\r",
      " \n",
      " mi sabes \n",
      " let me hurt you \n",
      " i think i see you go \n",
      " in sabes \n",
      " ay ves\r",
      " ves through the alarm of locked up \n",
      " que lo lo lo lo que fallin salt backstabbin' \n",
      " popo all the 'bach \n",
      " attention time goes my ear \n",
      " if i let you go \n",
      " then i done you go \n",
      " \n",
      " no nos va olvidã\r",
      " and window \n",
      " ya lo ves traidor lo cookies kitty listening \n",
      " que sabes lo ves esto mas reir\r",
      " down \n",
      " star un ti\r",
      " kitty thunder you've que quiero for you \n",
      " \n",
      " \n",
      " oh yeah yeah yeah \n",
      " que sabes lo voy sabes \n",
      " normally \n",
      " acoustic nos bello simple \n",
      " \n",
      " beyonce i'm not chinchilla \n",
      " no terminaremos\r",
      " tu amor yeah flatline outta ves ak los ves lo el que te creeping dealers \n",
      " ves olvide\r",
      " de amante\r",
      " di boat wont \n",
      " pretty ah \n",
      " voy a engaãar\r",
      " \n",
      " \n",
      " i know you like you \n",
      " \n",
      " i ended back next we held \n",
      " where's sabes te asses dos of hand \n",
      " ohh i'm a coffee a lot guy \n",
      " vamos \n",
      " \n",
      " burning in your stage \n",
      " matter the sameyesi'm \n",
      " chãrie me time to be a soldier \n",
      " all i won't let you go \n",
      " \n"
     ]
    }
   ],
   "source": [
    "# example of generated negative lyrics with RNN model\n",
    "for token in negative_songs1[4]:\n",
    "    token = re.sub('newline', '\\n', token)\n",
    "    print(token, end = \"\")"
   ]
  },
  {
   "cell_type": "code",
   "execution_count": 74,
   "id": "cfb032a7",
   "metadata": {
    "colab": {
     "base_uri": "https://localhost:8080/"
    },
    "id": "cfb032a7",
    "outputId": "841b46dd-3c33-4b3d-99c6-b6ecaa95ace2"
   },
   "outputs": [
    {
     "name": "stdout",
     "output_type": "stream",
     "text": [
      "i said remember this moment \n",
      " in the heart just if you gotta the favorite days \n",
      " \n",
      " i would have it like \n",
      " i know you go \n",
      " hey don't wanna can be a phone in the breath \n",
      " i could notice you and i can't ain't \n",
      " there want mistakes \n",
      " was in my time \n",
      " i try to my that that i wanna do \n",
      " \n",
      " i can wanna \n",
      " you're the street you guess to get me \n",
      " hey give me in a hell \n",
      " \n",
      " no tell your heart of the young \n",
      " i'm came\r",
      " to new \n",
      " \r",
      " \n",
      " get that sure don't fall to get another way \n",
      " but that you're place \n",
      " \n",
      " oh \n",
      " baby let me feel like ground \n",
      " let me feel mine enough \n",
      " \n",
      " i'm my first of my love \r",
      " \n",
      " i know all the love in the afterglow \n",
      " mais \n",
      " that's how we get away \n",
      " i'm be mine \n",
      " i can love you go \n",
      " oh put my rich \n",
      " greedy oh \n",
      " that i just miss my too man \n",
      " i knew\r",
      " in my clear up \n",
      " lightning less greedy \n",
      " you gotta do hold my a live good lifestyles \n",
      " and i found have you would show my way up no mind \n",
      " i see i see a love\r",
      " \n",
      " baby i said you can live\r",
      " \n",
      " \n",
      " i love it \n",
      " there's love you like you \n",
      " but i think what you're all my blurry \n",
      " \n",
      " this happy is someone tonight \n",
      " \n",
      " \n",
      " i'm like your beat \n",
      " i never need to have you no \n",
      " \n",
      " \n",
      " that's caring \n",
      " \n",
      " now they want you \n",
      " it's this time yeah \n",
      " i can be my time i feel \n",
      " how i are you in the"
     ]
    }
   ],
   "source": [
    "# example of positive song generated by LSTM model.\n",
    "for token in positive_songs[6]:\n",
    "    token = re.sub('newline', '\\n', token)\n",
    "    print(token, end = \"\")"
   ]
  },
  {
   "cell_type": "code",
   "execution_count": 78,
   "id": "80e561d5",
   "metadata": {
    "colab": {
     "base_uri": "https://localhost:8080/"
    },
    "id": "80e561d5",
    "outputId": "0873fd08-289c-4ab3-bead-8857a9905611"
   },
   "outputs": [
    {
     "name": "stdout",
     "output_type": "stream",
     "text": [
      "it's strange to think the songs we used \n",
      " i know it's your run \n",
      " i wanna let it you \n",
      " i'm a point de barbarian \n",
      " you would be 'shake it with you telling \n",
      " \n",
      " and you feel with me from this \n",
      " and i know for this let's take a my cama \n",
      " boogie it \n",
      " con ghetto lo chalk \n",
      " \n",
      " i know you gon' be away \n",
      " i let you go \n",
      " beyonce you donât you can i working like i entice \n",
      " \n",
      " change of the gun \n",
      " \n",
      " i can don't go \n",
      " and i said it for my lot \n",
      " en destruyã³\r",
      " guns girl the trembling \n",
      " tu if i let you go \n",
      " i not anything to go \n",
      " i stop drunk to be searching on the vuelves \n",
      " \n",
      " and i let you go \n",
      " \n",
      " he was so ohh \n",
      " they saw it \n",
      " \n",
      " everything i go \n",
      " oh you know i know that you ain't all \n",
      " as this what i not tell \n",
      " \n",
      " i know you're go \n",
      " \n",
      " she let you go \n",
      " i can let you go \n",
      " and i let you me like you go \n",
      " grab his deal \n",
      " we play fairly it \n",
      " \n",
      " no let's let me go \n",
      " i took it i had that \n",
      " i be say when i could let it go \n",
      " i'm a closer\r",
      " i know i tragic i'm get girlfriend \n",
      " pero resentment \n",
      " if i last ain't a \n",
      " if i just don't you there get to seeing \n",
      " \n",
      " i'd want you \n",
      " if i don't ring you \n",
      " everything i need the truck \n",
      " tonight or so coats \n",
      " i want you go \n",
      " he wouldn't be one \n",
      " soft lo lo girl \n",
      " i start him \n"
     ]
    }
   ],
   "source": [
    "# Example of negative song generated by LSTM model.\n",
    "for token in negative_songs[3]:\n",
    "    token = re.sub('newline', '\\n', token)\n",
    "    print(token, end = \"\")"
   ]
  },
  {
   "cell_type": "markdown",
   "id": "19c0d4e3",
   "metadata": {
    "id": "19c0d4e3"
   },
   "source": [
    "## Analysis of results"
   ]
  },
  {
   "cell_type": "markdown",
   "id": "cb29ed8d",
   "metadata": {
    "id": "cb29ed8d"
   },
   "source": [
    "### Dataset"
   ]
  },
  {
   "cell_type": "code",
   "execution_count": 63,
   "id": "bd8baa46",
   "metadata": {
    "id": "bd8baa46"
   },
   "outputs": [],
   "source": [
    "def metrics(text):\n",
    "    #number of distinct words in a lyric\n",
    "    counter = Counter(text['Lyrics'])\n",
    "    distinct_words = len(counter)\n",
    "\n",
    "    #average number of tokens in a lyric\n",
    "    len_toks = sum(text['Lyrics'].str.len())/len(text['Lyrics'])\n",
    "\n",
    "\n",
    "    #average line length\n",
    "    subset = text\n",
    "    songs = list(subset[subset['Lyrics'].notnull()]['Lyrics'].str.split(pat = \"\\n\"))#songs\n",
    "\n",
    "    song_line_len = []\n",
    "    for song in songs:\n",
    "        line_lens = []\n",
    "        for line in song:\n",
    "            line_lens.append(len(line.split(\" \")))\n",
    "        avg_line_per_song = sum(line_lens)/len(song)\n",
    "        song_line_len.append(avg_line_per_song)\n",
    "    avg_line_len = sum(song_line_len)/len(songs)\n",
    "\n",
    "\n",
    "    #average word length\n",
    "    song_line_len = []\n",
    "    for song in songs:\n",
    "        line_lens = []\n",
    "        for line in song:\n",
    "            line_lens.append(len(line)/len(line.split(\" \")))\n",
    "        avg_line_per_song = sum(line_lens)/len(song)\n",
    "        song_line_len.append(avg_line_per_song)\n",
    "    avg_word_len = sum(song_line_len)/len(songs)\n",
    "\n",
    "\n",
    "    return distinct_words, len_toks, avg_line_len, avg_word_len"
   ]
  },
  {
   "cell_type": "code",
   "execution_count": 64,
   "id": "64a7f79b",
   "metadata": {
    "colab": {
     "base_uri": "https://localhost:8080/",
     "height": 645
    },
    "id": "64a7f79b",
    "outputId": "1710f632-e550-4a41-faf8-e1449d919570"
   },
   "outputs": [
    {
     "name": "stdout",
     "output_type": "stream",
     "text": [
      "distinct_words :  average number of tokens :  avg_line_length :  avg_word_len\n",
      "296 2209.37 426.59 5.195445416613766\n",
      "300 2007.7 385.00666666666666 5.223250874305751\n"
     ]
    },
    {
     "data": {
      "image/png": "[encoded data removed]",
      "text/plain": [
       "<Figure size 640x480 with 1 Axes>"
      ]
     },
     "metadata": {},
     "output_type": "display_data"
    }
   ],
   "source": [
    "from collections import Counter\n",
    "\n",
    "distinct_words_neg, len_toks_neg, avg_line_len_neg, avg_word_len_neg = metrics(negdf)\n",
    "\n",
    "distinct_words_pos, len_toks_pos, avg_line_len_pos, avg_word_len_pos = metrics(posdf)\n",
    "\n",
    "# number of distinct words in alyric\n",
    "# average number of tokens in a lyric\n",
    "print(\"distinct_words : \", \"average number of tokens : \", \"avg_line_length : \", \"avg_word_len\" )\n",
    "print(distinct_words_neg, len_toks_neg, avg_line_len_neg, avg_word_len_neg)\n",
    "print(distinct_words_pos, len_toks_pos, avg_line_len_pos, avg_word_len_pos)\n",
    "\n",
    "X = ['distinct_words', 'number of tokens', 'average line length', \"avg word len\"]\n",
    "Y_neg = [distinct_words_neg, len_toks_neg,  avg_line_len_neg, avg_word_len_neg]\n",
    "Z_pos = [distinct_words_pos, len_toks_pos, avg_line_len_pos, avg_word_len_pos]\n",
    "\n",
    "X_axis = np.arange(len(X))\n",
    "\n",
    "plt.bar(X_axis - 0.2, Y_neg, 0.4, label = 'Negative')\n",
    "plt.bar(X_axis + 0.2, Z_pos, 0.4, label = 'Positive')\n",
    "\n",
    "plt.xticks(X_axis, X)\n",
    "plt.xlabel(\"Groups\")\n",
    "plt.ylabel(\"Measured value \")\n",
    "plt.title(\"Song Lyrics dataset\")\n",
    "plt.xticks(rotation = 90)\n",
    "plt.legend()\n",
    "plt.show()"
   ]
  },
  {
   "cell_type": "markdown",
   "id": "cd73c9f9",
   "metadata": {
    "id": "cd73c9f9"
   },
   "source": [
    "### Song generation and similarity scores"
   ]
  },
  {
   "cell_type": "code",
   "execution_count": 65,
   "id": "93175d8a",
   "metadata": {
    "id": "93175d8a"
   },
   "outputs": [],
   "source": [
    "# data frame of generated positive and negative songs\n",
    "gen_pos_df = pd.DataFrame(positive_songs, columns = ['Lyrics'])\n",
    "gen_neg_df = pd.DataFrame(negative_songs, columns = ['Lyrics'])"
   ]
  },
  {
   "cell_type": "code",
   "execution_count": 66,
   "id": "82ac62e9",
   "metadata": {
    "id": "82ac62e9"
   },
   "outputs": [],
   "source": [
    "def gen_metrics(text):\n",
    "    #number of distinct words in a lyric\n",
    "    counter = Counter(text['Lyrics'])\n",
    "    distinct_words = len(counter)\n",
    "\n",
    "    #average number of tokens in a lyric\n",
    "    len_toks = sum(text['Lyrics'].str.len())/len(text['Lyrics'])\n",
    "\n",
    "\n",
    "    #average line length\n",
    "    subset = text\n",
    "    songs = list(subset[subset['Lyrics'].notnull()]['Lyrics'].str.split(pat = \"\\n\"))#songs\n",
    "\n",
    "    song_line_len = []\n",
    "    for song in songs:\n",
    "        line_lens = []\n",
    "        for line in song:\n",
    "            line_lens.append(len(line.split(\" \")))\n",
    "        avg_line_per_song = sum(line_lens)/len(song)\n",
    "        song_line_len.append(avg_line_per_song)\n",
    "    avg_line_len = sum(song_line_len)/len(songs)\n",
    "\n",
    "\n",
    "    #average word length\n",
    "    song_line_len = []\n",
    "    for song in songs:\n",
    "        line_lens = []\n",
    "        for line in song:\n",
    "            line_lens.append(len(line)/len(line.split(\" \")))\n",
    "        avg_line_per_song = sum(line_lens)/len(song)\n",
    "        song_line_len.append(avg_line_per_song)\n",
    "    avg_word_len = sum(song_line_len)/len(songs)\n",
    "\n",
    "\n",
    "    return distinct_words, len_toks, avg_line_len, avg_word_len"
   ]
  },
  {
   "cell_type": "code",
   "execution_count": 67,
   "id": "a0bc1063",
   "metadata": {
    "colab": {
     "base_uri": "https://localhost:8080/",
     "height": 654
    },
    "id": "a0bc1063",
    "outputId": "2b16ea74-2121-4c70-f75f-12208477179d"
   },
   "outputs": [
    {
     "name": "stdout",
     "output_type": "stream",
     "text": [
      "distinct_words :  average number of tokens :  avg_word_length :   avg_word_length:\n",
      "10 1230.8 6.284018127156896 2.7679090188514417\n",
      "10 1218.7 6.7305984510444405 2.7811732937757028\n"
     ]
    },
    {
     "data": {
      "image/png": "[encoded data removed]",
      "text/plain": [
       "<Figure size 640x480 with 1 Axes>"
      ]
     },
     "metadata": {},
     "output_type": "display_data"
    }
   ],
   "source": [
    "import numpy as np\n",
    "import matplotlib.pyplot as plt\n",
    "from collections import Counter\n",
    "\n",
    "distinct_words_neg, len_toks_neg, avg_line_len_neg,avg_word_len_neg  = gen_metrics(gen_neg_df)\n",
    "\n",
    "distinct_words_pos, len_toks_pos, avg_line_len_pos, avg_word_len_pos = gen_metrics(gen_pos_df)\n",
    "\n",
    "# number of distinct words in alyric\n",
    "# average number of tokens in a lyric\n",
    "print(\"distinct_words : \", \"average number of tokens : \", \"avg_word_length : \", \" avg_word_length:\")\n",
    "print(distinct_words_neg, len_toks_neg, avg_line_len_neg, avg_word_len_neg)\n",
    "print(distinct_words_pos, len_toks_pos, avg_line_len_pos, avg_word_len_pos)\n",
    "\n",
    "X = ['distinct_words', 'number of tokens', 'average word length', \"avg_word_length\"]\n",
    "Y_neg = [distinct_words_neg, len_toks_neg,  avg_line_len_neg, avg_word_len_neg]\n",
    "Z_pos = [distinct_words_pos, len_toks_pos, avg_line_len_pos, avg_word_len_pos]\n",
    "\n",
    "X_axis = np.arange(len(X))\n",
    "\n",
    "plt.bar(X_axis - 0.2, Y_neg, 0.4, label = 'Negative')\n",
    "plt.bar(X_axis + 0.2, Z_pos, 0.4, label = 'Positive')\n",
    "\n",
    "plt.xticks(X_axis, X)\n",
    "plt.xlabel(\"Groups\")\n",
    "plt.ylabel(\"Measured value\")\n",
    "plt.title(\"Generated song dataset\")\n",
    "plt.xticks(rotation = 90)\n",
    "plt.legend()\n",
    "plt.show()"
   ]
  },
  {
   "cell_type": "code",
   "execution_count": 67,
   "id": "b5c1199e",
   "metadata": {
    "id": "b5c1199e"
   },
   "outputs": [],
   "source": []
  },
  {
   "cell_type": "code",
   "execution_count": 68,
   "id": "956fed3f",
   "metadata": {
    "id": "956fed3f"
   },
   "outputs": [],
   "source": [
    "## measuring SPacy similarity b/n ten random songs (from each positive and negative dataset) vs generated songs (pos and neg)\n",
    "\n",
    "def get_random_songs(dataset, num):\n",
    "    songs = []\n",
    "    for i in range(num):\n",
    "\n",
    "        # song = dataset['Lyrics'].sample(n=num)\n",
    "        song = dataset['Lyrics'].sample().values[0]\n",
    "        songs.append(song)\n",
    "\n",
    "    return songs\n",
    "\n",
    "# list of string of all songs\n",
    "pos_songs_df = get_random_songs(posdf, 10)\n",
    "neg_songs_df = get_random_songs(negdf, 10)"
   ]
  },
  {
   "cell_type": "code",
   "execution_count": 69,
   "id": "a21cd1cc",
   "metadata": {
    "id": "a21cd1cc"
   },
   "outputs": [],
   "source": [
    "# instruction : sudo pip3 install spacy\n",
    "# instruction : sudo python3 -m spacy download en\n",
    "import spacy\n",
    "nlp = spacy.load('en_core_web_sm')"
   ]
  },
  {
   "cell_type": "code",
   "execution_count": 70,
   "id": "0db30222",
   "metadata": {
    "colab": {
     "base_uri": "https://localhost:8080/"
    },
    "id": "0db30222",
    "outputId": "4971c167-64f6-4f84-8e06-dbf893202d2c"
   },
   "outputs": [
    {
     "name": "stderr",
     "output_type": "stream",
     "text": [
      "<ipython-input-70-d8e59c1ca1b8>:6: UserWarning: [W007] The model you're using has no word vectors loaded, so the result of the Doc.similarity method will be based on the tagger, parser and NER, which may not give useful similarity judgements. This may happen if you're using one of the small models, e.g. `en_core_web_sm`, which don't ship with word vectors and only use context-sensitive tensors. You can always add your own word vectors, or use one of the larger models instead if available.\n",
      "  pos_sim = pos_sim + nlp(ds).similarity(nlp(gen))\n"
     ]
    },
    {
     "name": "stdout",
     "output_type": "stream",
     "text": [
      "AVERAGE POSITIVE COSINE SIMILARITY :  0.7251916284454906\n"
     ]
    }
   ],
   "source": [
    "# positive songs cosine similarity\n",
    "pos_sim = 0\n",
    "pos_songs_dataset = [x for [x] in positive_songs]\n",
    "\n",
    "for ds, gen in zip(pos_songs_dataset, pos_songs_df):\n",
    "    pos_sim = pos_sim + nlp(ds).similarity(nlp(gen))\n",
    "\n",
    "avg_pos_cos_sim = pos_sim / 10\n",
    "print(\"AVERAGE POSITIVE COSINE SIMILARITY : \",avg_pos_cos_sim)\n"
   ]
  },
  {
   "cell_type": "code",
   "execution_count": 71,
   "id": "2de7ab89",
   "metadata": {
    "colab": {
     "base_uri": "https://localhost:8080/"
    },
    "id": "2de7ab89",
    "outputId": "828c702f-b3fa-42a8-b43d-a60df3e76bc8"
   },
   "outputs": [
    {
     "name": "stderr",
     "output_type": "stream",
     "text": [
      "<ipython-input-71-7907a773cfd5>:8: UserWarning: [W007] The model you're using has no word vectors loaded, so the result of the Doc.similarity method will be based on the tagger, parser and NER, which may not give useful similarity judgements. This may happen if you're using one of the small models, e.g. `en_core_web_sm`, which don't ship with word vectors and only use context-sensitive tensors. You can always add your own word vectors, or use one of the larger models instead if available.\n",
      "  neg_sim = neg_sim + nlp(ds).similarity(nlp(gen))\n"
     ]
    },
    {
     "name": "stdout",
     "output_type": "stream",
     "text": [
      "AVERAGE NEGATIVE COSINE SIMILARITY :  0.7057735946610217\n"
     ]
    }
   ],
   "source": [
    "# Negative songs cosine similarity\n",
    "neg_sim = 0\n",
    "# flatten\n",
    "neg_songs_dataset = [x for [x] in negative_songs]\n",
    "\n",
    "for ds, gen in zip(neg_songs_dataset, neg_songs_df):\n",
    "\n",
    "    neg_sim = neg_sim + nlp(ds).similarity(nlp(gen))\n",
    "\n",
    "avg_neg_cos_sim = neg_sim / 10\n",
    "print(\"AVERAGE NEGATIVE COSINE SIMILARITY : \",avg_neg_cos_sim)"
   ]
  },
  {
   "cell_type": "markdown",
   "id": "6c72efab",
   "metadata": {
    "id": "6c72efab"
   },
   "source": [
    "## GRAPH COSINE SIMILARITY\n"
   ]
  },
  {
   "cell_type": "code",
   "execution_count": 72,
   "id": "9a92e05d",
   "metadata": {
    "colab": {
     "base_uri": "https://localhost:8080/",
     "height": 637
    },
    "id": "9a92e05d",
    "outputId": "17a50764-4100-4cac-e3b9-eb66226d5f9e"
   },
   "outputs": [
    {
     "data": {
      "image/png": "[encoded data removed]",
      "text/plain": [
       "<Figure size 640x480 with 1 Axes>"
      ]
     },
     "metadata": {},
     "output_type": "display_data"
    }
   ],
   "source": [
    "import matplotlib.pyplot as plt\n",
    "fig = plt.figure()\n",
    "ax = fig.add_axes([0,0,1,1])\n",
    "dataset = ['NEGATIVE', 'POSITIVE']\n",
    "sim_val = [avg_neg_cos_sim, avg_pos_cos_sim]\n",
    "plt.xlabel(\"emotions of songs\")\n",
    "plt.ylabel(\"average cosine similarity\")\n",
    "plt.title(\"Cosine similarity of Generated songs Vs Original songs in the dataset for positve and negative datasets\")\n",
    "plt.xticks(rotation = 90)\n",
    "ax.bar(dataset,sim_val)\n",
    "plt.show()"
   ]
  }
 ],
 "metadata": {
  "accelerator": "GPU",
  "colab": {
   "gpuType": "T4",
   "provenance": []
  },
  "kernelspec": {
   "display_name": "Python 3 (ipykernel)",
   "language": "python",
   "name": "python3"
  },
  "language_info": {
   "codemirror_mode": {
    "name": "ipython",
    "version": 3
   },
   "file_extension": ".py",
   "mimetype": "text/x-python",
   "name": "python",
   "nbconvert_exporter": "python",
   "pygments_lexer": "ipython3",
   "version": "3.11.5"
  }
 },
 "nbformat": 4,
 "nbformat_minor": 5
}
